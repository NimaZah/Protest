{
  "nbformat": 4,
  "nbformat_minor": 0,
  "metadata": {
    "colab": {
      "name": "Deep_learning_model.ipynb",
      "provenance": [],
      "collapsed_sections": [],
      "authorship_tag": "ABX9TyOH3p+i5+6/Hk4JuYsKpjmx",
      "include_colab_link": true
    },
    "kernelspec": {
      "name": "python3",
      "display_name": "Python 3"
    },
    "language_info": {
      "name": "python"
    },
    "accelerator": "GPU"
  },
  "cells": [
    {
      "cell_type": "markdown",
      "metadata": {
        "id": "view-in-github",
        "colab_type": "text"
      },
      "source": [
        "<a href=\"https://colab.research.google.com/github/NimaZah/Protest/blob/main/Deep_learning_model.ipynb\" target=\"_parent\"><img src=\"https://colab.research.google.com/assets/colab-badge.svg\" alt=\"Open In Colab\"/></a>"
      ]
    },
    {
      "cell_type": "code",
      "source": [
        "import re\n",
        "# imports for notebook boilerplate\n",
        "!pip install -Uqq fastbook\n",
        "import fastbook\n",
        "from fastbook import *\n",
        "from fastai.tabular.all import *\n",
        "fastbook.setup_book()"
      ],
      "metadata": {
        "id": "BKTcMBPHBEji",
        "colab": {
          "base_uri": "https://localhost:8080/"
        },
        "outputId": "f08f3953-5dd2-4b83-db25-815e3e965f48"
      },
      "execution_count": null,
      "outputs": [
        {
          "output_type": "stream",
          "name": "stdout",
          "text": [
            "\u001b[?25l\r\u001b[K     |▌                               | 10 kB 33.4 MB/s eta 0:00:01\r\u001b[K     |█                               | 20 kB 40.3 MB/s eta 0:00:01\r\u001b[K     |█▍                              | 30 kB 44.5 MB/s eta 0:00:01\r\u001b[K     |█▉                              | 40 kB 32.1 MB/s eta 0:00:01\r\u001b[K     |██▎                             | 51 kB 35.3 MB/s eta 0:00:01\r\u001b[K     |██▊                             | 61 kB 39.6 MB/s eta 0:00:01\r\u001b[K     |███▏                            | 71 kB 27.6 MB/s eta 0:00:01\r\u001b[K     |███▋                            | 81 kB 28.6 MB/s eta 0:00:01\r\u001b[K     |████                            | 92 kB 30.7 MB/s eta 0:00:01\r\u001b[K     |████▌                           | 102 kB 32.7 MB/s eta 0:00:01\r\u001b[K     |█████                           | 112 kB 32.7 MB/s eta 0:00:01\r\u001b[K     |█████▌                          | 122 kB 32.7 MB/s eta 0:00:01\r\u001b[K     |██████                          | 133 kB 32.7 MB/s eta 0:00:01\r\u001b[K     |██████▍                         | 143 kB 32.7 MB/s eta 0:00:01\r\u001b[K     |██████▉                         | 153 kB 32.7 MB/s eta 0:00:01\r\u001b[K     |███████▎                        | 163 kB 32.7 MB/s eta 0:00:01\r\u001b[K     |███████▊                        | 174 kB 32.7 MB/s eta 0:00:01\r\u001b[K     |████████▏                       | 184 kB 32.7 MB/s eta 0:00:01\r\u001b[K     |████████▋                       | 194 kB 32.7 MB/s eta 0:00:01\r\u001b[K     |█████████                       | 204 kB 32.7 MB/s eta 0:00:01\r\u001b[K     |█████████▋                      | 215 kB 32.7 MB/s eta 0:00:01\r\u001b[K     |██████████                      | 225 kB 32.7 MB/s eta 0:00:01\r\u001b[K     |██████████▌                     | 235 kB 32.7 MB/s eta 0:00:01\r\u001b[K     |███████████                     | 245 kB 32.7 MB/s eta 0:00:01\r\u001b[K     |███████████▍                    | 256 kB 32.7 MB/s eta 0:00:01\r\u001b[K     |███████████▉                    | 266 kB 32.7 MB/s eta 0:00:01\r\u001b[K     |████████████▎                   | 276 kB 32.7 MB/s eta 0:00:01\r\u001b[K     |████████████▊                   | 286 kB 32.7 MB/s eta 0:00:01\r\u001b[K     |█████████████▏                  | 296 kB 32.7 MB/s eta 0:00:01\r\u001b[K     |█████████████▋                  | 307 kB 32.7 MB/s eta 0:00:01\r\u001b[K     |██████████████                  | 317 kB 32.7 MB/s eta 0:00:01\r\u001b[K     |██████████████▋                 | 327 kB 32.7 MB/s eta 0:00:01\r\u001b[K     |███████████████                 | 337 kB 32.7 MB/s eta 0:00:01\r\u001b[K     |███████████████▌                | 348 kB 32.7 MB/s eta 0:00:01\r\u001b[K     |████████████████                | 358 kB 32.7 MB/s eta 0:00:01\r\u001b[K     |████████████████▍               | 368 kB 32.7 MB/s eta 0:00:01\r\u001b[K     |████████████████▉               | 378 kB 32.7 MB/s eta 0:00:01\r\u001b[K     |█████████████████▎              | 389 kB 32.7 MB/s eta 0:00:01\r\u001b[K     |█████████████████▊              | 399 kB 32.7 MB/s eta 0:00:01\r\u001b[K     |██████████████████▏             | 409 kB 32.7 MB/s eta 0:00:01\r\u001b[K     |██████████████████▋             | 419 kB 32.7 MB/s eta 0:00:01\r\u001b[K     |███████████████████▏            | 430 kB 32.7 MB/s eta 0:00:01\r\u001b[K     |███████████████████▋            | 440 kB 32.7 MB/s eta 0:00:01\r\u001b[K     |████████████████████            | 450 kB 32.7 MB/s eta 0:00:01\r\u001b[K     |████████████████████▌           | 460 kB 32.7 MB/s eta 0:00:01\r\u001b[K     |█████████████████████           | 471 kB 32.7 MB/s eta 0:00:01\r\u001b[K     |█████████████████████▍          | 481 kB 32.7 MB/s eta 0:00:01\r\u001b[K     |█████████████████████▉          | 491 kB 32.7 MB/s eta 0:00:01\r\u001b[K     |██████████████████████▎         | 501 kB 32.7 MB/s eta 0:00:01\r\u001b[K     |██████████████████████▊         | 512 kB 32.7 MB/s eta 0:00:01\r\u001b[K     |███████████████████████▏        | 522 kB 32.7 MB/s eta 0:00:01\r\u001b[K     |███████████████████████▋        | 532 kB 32.7 MB/s eta 0:00:01\r\u001b[K     |████████████████████████▏       | 542 kB 32.7 MB/s eta 0:00:01\r\u001b[K     |████████████████████████▋       | 552 kB 32.7 MB/s eta 0:00:01\r\u001b[K     |█████████████████████████       | 563 kB 32.7 MB/s eta 0:00:01\r\u001b[K     |█████████████████████████▌      | 573 kB 32.7 MB/s eta 0:00:01\r\u001b[K     |██████████████████████████      | 583 kB 32.7 MB/s eta 0:00:01\r\u001b[K     |██████████████████████████▍     | 593 kB 32.7 MB/s eta 0:00:01\r\u001b[K     |██████████████████████████▉     | 604 kB 32.7 MB/s eta 0:00:01\r\u001b[K     |███████████████████████████▎    | 614 kB 32.7 MB/s eta 0:00:01\r\u001b[K     |███████████████████████████▊    | 624 kB 32.7 MB/s eta 0:00:01\r\u001b[K     |████████████████████████████▏   | 634 kB 32.7 MB/s eta 0:00:01\r\u001b[K     |████████████████████████████▊   | 645 kB 32.7 MB/s eta 0:00:01\r\u001b[K     |█████████████████████████████▏  | 655 kB 32.7 MB/s eta 0:00:01\r\u001b[K     |█████████████████████████████▋  | 665 kB 32.7 MB/s eta 0:00:01\r\u001b[K     |██████████████████████████████  | 675 kB 32.7 MB/s eta 0:00:01\r\u001b[K     |██████████████████████████████▌ | 686 kB 32.7 MB/s eta 0:00:01\r\u001b[K     |███████████████████████████████ | 696 kB 32.7 MB/s eta 0:00:01\r\u001b[K     |███████████████████████████████▍| 706 kB 32.7 MB/s eta 0:00:01\r\u001b[K     |███████████████████████████████▉| 716 kB 32.7 MB/s eta 0:00:01\r\u001b[K     |████████████████████████████████| 720 kB 32.7 MB/s \n",
            "\u001b[K     |████████████████████████████████| 48 kB 6.7 MB/s \n",
            "\u001b[K     |████████████████████████████████| 1.2 MB 50.2 MB/s \n",
            "\u001b[K     |████████████████████████████████| 189 kB 67.9 MB/s \n",
            "\u001b[K     |████████████████████████████████| 55 kB 5.2 MB/s \n",
            "\u001b[K     |████████████████████████████████| 558 kB 70.7 MB/s \n",
            "\u001b[K     |████████████████████████████████| 51 kB 393 kB/s \n",
            "\u001b[K     |████████████████████████████████| 130 kB 20.2 MB/s \n",
            "\u001b[?25hMounted at /content/gdrive\n"
          ]
        }
      ]
    },
    {
      "cell_type": "code",
      "source": [
        "path=Path('data/')\n",
        "path\n",
        "#downloading data\n",
        "path.mkdir(parents=True, exist_ok=True)\n",
        "path.ls()"
      ],
      "metadata": {
        "id": "0gCT6WmSJp7c",
        "colab": {
          "base_uri": "https://localhost:8080/"
        },
        "outputId": "10b28a5b-ce7d-4861-a9dc-c375971ecd49"
      },
      "execution_count": null,
      "outputs": [
        {
          "output_type": "execute_result",
          "data": {
            "text/plain": [
              "(#0) []"
            ]
          },
          "metadata": {},
          "execution_count": 3
        }
      ]
    },
    {
      "cell_type": "code",
      "source": [
        "# loading the data into a dataframe\n",
        "df = pd.read_csv('https://raw.githubusercontent.com/joankovacs/mass_mobilization/main/cleaned_protests.csv')\n",
        "#check the first rows of the dataframe\n",
        "df.head()\n",
        "df.drop(['sources', 'notes', 'protesteridentity'], axis=1, inplace=True)\n",
        "df.head()"
      ],
      "metadata": {
        "id": "Iif8jEasd4_y",
        "colab": {
          "base_uri": "https://localhost:8080/",
          "height": 374
        },
        "outputId": "a59d336f-eeb3-4780-8dad-eefd26464aaa"
      },
      "execution_count": null,
      "outputs": [
        {
          "output_type": "execute_result",
          "data": {
            "text/html": [
              "\n",
              "  <div id=\"df-ce3b28a9-9342-4a5a-b109-f75e5d416345\">\n",
              "    <div class=\"colab-df-container\">\n",
              "      <div>\n",
              "<style scoped>\n",
              "    .dataframe tbody tr th:only-of-type {\n",
              "        vertical-align: middle;\n",
              "    }\n",
              "\n",
              "    .dataframe tbody tr th {\n",
              "        vertical-align: top;\n",
              "    }\n",
              "\n",
              "    .dataframe thead th {\n",
              "        text-align: right;\n",
              "    }\n",
              "</style>\n",
              "<table border=\"1\" class=\"dataframe\">\n",
              "  <thead>\n",
              "    <tr style=\"text-align: right;\">\n",
              "      <th></th>\n",
              "      <th>Unnamed: 0</th>\n",
              "      <th>country</th>\n",
              "      <th>year</th>\n",
              "      <th>region</th>\n",
              "      <th>protesterviolence</th>\n",
              "      <th>participants</th>\n",
              "      <th>protest_length</th>\n",
              "      <th>demand_labor_wage_dispute</th>\n",
              "      <th>demand_land_farm_issue</th>\n",
              "      <th>demand_police_brutality</th>\n",
              "      <th>demand_political_behavior_or_process</th>\n",
              "      <th>demand_price_hike_or_tax_policy</th>\n",
              "      <th>demand_removal_of_politician</th>\n",
              "      <th>demand_social_restrictions</th>\n",
              "      <th>y_accomodation</th>\n",
              "      <th>y_ignore</th>\n",
              "      <th>y_adverse_reaction</th>\n",
              "      <th>y_state_violence</th>\n",
              "    </tr>\n",
              "  </thead>\n",
              "  <tbody>\n",
              "    <tr>\n",
              "      <th>0</th>\n",
              "      <td>79</td>\n",
              "      <td>Cuba</td>\n",
              "      <td>2012</td>\n",
              "      <td>Central America</td>\n",
              "      <td>0.0</td>\n",
              "      <td>50.0</td>\n",
              "      <td>1.0</td>\n",
              "      <td>0</td>\n",
              "      <td>0</td>\n",
              "      <td>0</td>\n",
              "      <td>1</td>\n",
              "      <td>0</td>\n",
              "      <td>0</td>\n",
              "      <td>0</td>\n",
              "      <td>0</td>\n",
              "      <td>0</td>\n",
              "      <td>1</td>\n",
              "      <td>0</td>\n",
              "    </tr>\n",
              "    <tr>\n",
              "      <th>1</th>\n",
              "      <td>81</td>\n",
              "      <td>Cuba</td>\n",
              "      <td>2014</td>\n",
              "      <td>Central America</td>\n",
              "      <td>0.0</td>\n",
              "      <td>100.0</td>\n",
              "      <td>1.0</td>\n",
              "      <td>1</td>\n",
              "      <td>0</td>\n",
              "      <td>0</td>\n",
              "      <td>0</td>\n",
              "      <td>0</td>\n",
              "      <td>0</td>\n",
              "      <td>0</td>\n",
              "      <td>0</td>\n",
              "      <td>0</td>\n",
              "      <td>1</td>\n",
              "      <td>1</td>\n",
              "    </tr>\n",
              "    <tr>\n",
              "      <th>2</th>\n",
              "      <td>82</td>\n",
              "      <td>Cuba</td>\n",
              "      <td>2014</td>\n",
              "      <td>Central America</td>\n",
              "      <td>0.0</td>\n",
              "      <td>50.0</td>\n",
              "      <td>1.0</td>\n",
              "      <td>0</td>\n",
              "      <td>0</td>\n",
              "      <td>0</td>\n",
              "      <td>1</td>\n",
              "      <td>0</td>\n",
              "      <td>0</td>\n",
              "      <td>0</td>\n",
              "      <td>0</td>\n",
              "      <td>0</td>\n",
              "      <td>1</td>\n",
              "      <td>0</td>\n",
              "    </tr>\n",
              "    <tr>\n",
              "      <th>3</th>\n",
              "      <td>83</td>\n",
              "      <td>Cuba</td>\n",
              "      <td>2015</td>\n",
              "      <td>Central America</td>\n",
              "      <td>0.0</td>\n",
              "      <td>100.0</td>\n",
              "      <td>1.0</td>\n",
              "      <td>0</td>\n",
              "      <td>0</td>\n",
              "      <td>0</td>\n",
              "      <td>1</td>\n",
              "      <td>0</td>\n",
              "      <td>0</td>\n",
              "      <td>0</td>\n",
              "      <td>0</td>\n",
              "      <td>0</td>\n",
              "      <td>1</td>\n",
              "      <td>0</td>\n",
              "    </tr>\n",
              "    <tr>\n",
              "      <th>4</th>\n",
              "      <td>84</td>\n",
              "      <td>Cuba</td>\n",
              "      <td>2015</td>\n",
              "      <td>Central America</td>\n",
              "      <td>0.0</td>\n",
              "      <td>100.0</td>\n",
              "      <td>1.0</td>\n",
              "      <td>0</td>\n",
              "      <td>0</td>\n",
              "      <td>0</td>\n",
              "      <td>1</td>\n",
              "      <td>0</td>\n",
              "      <td>0</td>\n",
              "      <td>0</td>\n",
              "      <td>0</td>\n",
              "      <td>0</td>\n",
              "      <td>1</td>\n",
              "      <td>0</td>\n",
              "    </tr>\n",
              "  </tbody>\n",
              "</table>\n",
              "</div>\n",
              "      <button class=\"colab-df-convert\" onclick=\"convertToInteractive('df-ce3b28a9-9342-4a5a-b109-f75e5d416345')\"\n",
              "              title=\"Convert this dataframe to an interactive table.\"\n",
              "              style=\"display:none;\">\n",
              "        \n",
              "  <svg xmlns=\"http://www.w3.org/2000/svg\" height=\"24px\"viewBox=\"0 0 24 24\"\n",
              "       width=\"24px\">\n",
              "    <path d=\"M0 0h24v24H0V0z\" fill=\"none\"/>\n",
              "    <path d=\"M18.56 5.44l.94 2.06.94-2.06 2.06-.94-2.06-.94-.94-2.06-.94 2.06-2.06.94zm-11 1L8.5 8.5l.94-2.06 2.06-.94-2.06-.94L8.5 2.5l-.94 2.06-2.06.94zm10 10l.94 2.06.94-2.06 2.06-.94-2.06-.94-.94-2.06-.94 2.06-2.06.94z\"/><path d=\"M17.41 7.96l-1.37-1.37c-.4-.4-.92-.59-1.43-.59-.52 0-1.04.2-1.43.59L10.3 9.45l-7.72 7.72c-.78.78-.78 2.05 0 2.83L4 21.41c.39.39.9.59 1.41.59.51 0 1.02-.2 1.41-.59l7.78-7.78 2.81-2.81c.8-.78.8-2.07 0-2.86zM5.41 20L4 18.59l7.72-7.72 1.47 1.35L5.41 20z\"/>\n",
              "  </svg>\n",
              "      </button>\n",
              "      \n",
              "  <style>\n",
              "    .colab-df-container {\n",
              "      display:flex;\n",
              "      flex-wrap:wrap;\n",
              "      gap: 12px;\n",
              "    }\n",
              "\n",
              "    .colab-df-convert {\n",
              "      background-color: #E8F0FE;\n",
              "      border: none;\n",
              "      border-radius: 50%;\n",
              "      cursor: pointer;\n",
              "      display: none;\n",
              "      fill: #1967D2;\n",
              "      height: 32px;\n",
              "      padding: 0 0 0 0;\n",
              "      width: 32px;\n",
              "    }\n",
              "\n",
              "    .colab-df-convert:hover {\n",
              "      background-color: #E2EBFA;\n",
              "      box-shadow: 0px 1px 2px rgba(60, 64, 67, 0.3), 0px 1px 3px 1px rgba(60, 64, 67, 0.15);\n",
              "      fill: #174EA6;\n",
              "    }\n",
              "\n",
              "    [theme=dark] .colab-df-convert {\n",
              "      background-color: #3B4455;\n",
              "      fill: #D2E3FC;\n",
              "    }\n",
              "\n",
              "    [theme=dark] .colab-df-convert:hover {\n",
              "      background-color: #434B5C;\n",
              "      box-shadow: 0px 1px 3px 1px rgba(0, 0, 0, 0.15);\n",
              "      filter: drop-shadow(0px 1px 2px rgba(0, 0, 0, 0.3));\n",
              "      fill: #FFFFFF;\n",
              "    }\n",
              "  </style>\n",
              "\n",
              "      <script>\n",
              "        const buttonEl =\n",
              "          document.querySelector('#df-ce3b28a9-9342-4a5a-b109-f75e5d416345 button.colab-df-convert');\n",
              "        buttonEl.style.display =\n",
              "          google.colab.kernel.accessAllowed ? 'block' : 'none';\n",
              "\n",
              "        async function convertToInteractive(key) {\n",
              "          const element = document.querySelector('#df-ce3b28a9-9342-4a5a-b109-f75e5d416345');\n",
              "          const dataTable =\n",
              "            await google.colab.kernel.invokeFunction('convertToInteractive',\n",
              "                                                     [key], {});\n",
              "          if (!dataTable) return;\n",
              "\n",
              "          const docLinkHtml = 'Like what you see? Visit the ' +\n",
              "            '<a target=\"_blank\" href=https://colab.research.google.com/notebooks/data_table.ipynb>data table notebook</a>'\n",
              "            + ' to learn more about interactive tables.';\n",
              "          element.innerHTML = '';\n",
              "          dataTable['output_type'] = 'display_data';\n",
              "          await google.colab.output.renderOutput(dataTable, element);\n",
              "          const docLink = document.createElement('div');\n",
              "          docLink.innerHTML = docLinkHtml;\n",
              "          element.appendChild(docLink);\n",
              "        }\n",
              "      </script>\n",
              "    </div>\n",
              "  </div>\n",
              "  "
            ],
            "text/plain": [
              "   Unnamed: 0 country  year           region  protesterviolence  participants  \\\n",
              "0          79    Cuba  2012  Central America                0.0          50.0   \n",
              "1          81    Cuba  2014  Central America                0.0         100.0   \n",
              "2          82    Cuba  2014  Central America                0.0          50.0   \n",
              "3          83    Cuba  2015  Central America                0.0         100.0   \n",
              "4          84    Cuba  2015  Central America                0.0         100.0   \n",
              "\n",
              "   protest_length  demand_labor_wage_dispute  demand_land_farm_issue  \\\n",
              "0             1.0                          0                       0   \n",
              "1             1.0                          1                       0   \n",
              "2             1.0                          0                       0   \n",
              "3             1.0                          0                       0   \n",
              "4             1.0                          0                       0   \n",
              "\n",
              "   demand_police_brutality  demand_political_behavior_or_process  \\\n",
              "0                        0                                     1   \n",
              "1                        0                                     0   \n",
              "2                        0                                     1   \n",
              "3                        0                                     1   \n",
              "4                        0                                     1   \n",
              "\n",
              "   demand_price_hike_or_tax_policy  demand_removal_of_politician  \\\n",
              "0                                0                             0   \n",
              "1                                0                             0   \n",
              "2                                0                             0   \n",
              "3                                0                             0   \n",
              "4                                0                             0   \n",
              "\n",
              "   demand_social_restrictions  y_accomodation  y_ignore  y_adverse_reaction  \\\n",
              "0                           0               0         0                   1   \n",
              "1                           0               0         0                   1   \n",
              "2                           0               0         0                   1   \n",
              "3                           0               0         0                   1   \n",
              "4                           0               0         0                   1   \n",
              "\n",
              "   y_state_violence  \n",
              "0                 0  \n",
              "1                 1  \n",
              "2                 0  \n",
              "3                 0  \n",
              "4                 0  "
            ]
          },
          "metadata": {},
          "execution_count": 4
        }
      ]
    },
    {
      "cell_type": "code",
      "source": [
        "df.columns"
      ],
      "metadata": {
        "id": "nBfNUc37xiC_",
        "outputId": "3967f45d-d4a0-44fb-bad2-ebc354c190e9",
        "colab": {
          "base_uri": "https://localhost:8080/"
        }
      },
      "execution_count": null,
      "outputs": [
        {
          "output_type": "execute_result",
          "data": {
            "text/plain": [
              "Index(['Unnamed: 0', 'country', 'year', 'region', 'protesterviolence',\n",
              "       'participants', 'protest_length', 'demand_labor_wage_dispute',\n",
              "       'demand_land_farm_issue', 'demand_police_brutality',\n",
              "       'demand_political_behavior_or_process',\n",
              "       'demand_price_hike_or_tax_policy', 'demand_removal_of_politician',\n",
              "       'demand_social_restrictions', 'y_accomodation', 'y_ignore',\n",
              "       'y_adverse_reaction', 'y_state_violence'],\n",
              "      dtype='object')"
            ]
          },
          "metadata": {},
          "execution_count": 5
        }
      ]
    },
    {
      "cell_type": "code",
      "source": [
        "#print the unique values of duration and assign them to unique.\n",
        "unique = df['protest_length'].unique()\n",
        "# sort the values of unique.\n",
        "unique.sort()\n",
        "unique"
      ],
      "metadata": {
        "id": "AfE7aPz8grkq"
      },
      "execution_count": null,
      "outputs": []
    },
    {
      "cell_type": "code",
      "source": [
        "# create a function to assign a category to the values of protest_length column. The function will check if the value \n",
        "# of the protest_length is less than or equal to 30, and if it is, then it returns '1 months'. If the value of the\n",
        "# protest_length column is greater than 30 but less than or equal to 90, then it returns '1-3 months'. If \n",
        "# value of the protest_length column is greater than 90 but less than or equal to 180, then it returns\n",
        "# '1-6 months'. If the value of the protest_length column is greater than 180, then it returns '>6 months'\n",
        "\n",
        "def protest_length_category(protest_length):\n",
        "    if protest_length <= 30:\n",
        "        return '1 month'\n",
        "    elif protest_length > 30 and protest_length <= 90:\n",
        "        return '1-3 months'\n",
        "    elif protest_length > 90 and protest_length <= 180:\n",
        "        return '3-6 months'\n",
        "    elif protest_length > 180:\n",
        "        return '>6 months'"
      ],
      "metadata": {
        "id": "PxqYo8PurHbi"
      },
      "execution_count": null,
      "outputs": []
    },
    {
      "cell_type": "code",
      "source": [
        "# Apply the function to the protest_length column.\n",
        "df['protest_length_category'] = df['protest_length'].apply(protest_length_category)\n",
        "df.head()"
      ],
      "metadata": {
        "id": "c5heTiD0w5hK"
      },
      "execution_count": null,
      "outputs": []
    },
    {
      "cell_type": "code",
      "source": [
        "df['protest_length_category'].unique()"
      ],
      "metadata": {
        "colab": {
          "base_uri": "https://localhost:8080/"
        },
        "id": "LIJ0QrFpBsFm",
        "outputId": "be72d17e-b399-4188-c4f5-0c17386e3af4"
      },
      "execution_count": null,
      "outputs": [
        {
          "output_type": "execute_result",
          "data": {
            "text/plain": [
              "array(['1 month', '>6 months', '1-3 months', '3-6 months'], dtype=object)"
            ]
          },
          "metadata": {},
          "execution_count": 6
        }
      ]
    },
    {
      "cell_type": "code",
      "source": [
        "df.drop(['protest_length', 'Unnamed: 0', 'Unnamed: 0'], axis= 1, inplace= True)\n",
        "df.head()"
      ],
      "metadata": {
        "colab": {
          "base_uri": "https://localhost:8080/",
          "height": 357
        },
        "id": "1Y8_mp3Fv_61",
        "outputId": "c9a9a9e0-7767-4742-8c3d-3d5e402958fc"
      },
      "execution_count": null,
      "outputs": [
        {
          "output_type": "execute_result",
          "data": {
            "text/html": [
              "\n",
              "  <div id=\"df-19175d3f-89c4-4a62-9dee-8ed806944316\">\n",
              "    <div class=\"colab-df-container\">\n",
              "      <div>\n",
              "<style scoped>\n",
              "    .dataframe tbody tr th:only-of-type {\n",
              "        vertical-align: middle;\n",
              "    }\n",
              "\n",
              "    .dataframe tbody tr th {\n",
              "        vertical-align: top;\n",
              "    }\n",
              "\n",
              "    .dataframe thead th {\n",
              "        text-align: right;\n",
              "    }\n",
              "</style>\n",
              "<table border=\"1\" class=\"dataframe\">\n",
              "  <thead>\n",
              "    <tr style=\"text-align: right;\">\n",
              "      <th></th>\n",
              "      <th>country</th>\n",
              "      <th>year</th>\n",
              "      <th>region</th>\n",
              "      <th>protesterviolence</th>\n",
              "      <th>participants</th>\n",
              "      <th>demand_labor_wage_dispute</th>\n",
              "      <th>demand_land_farm_issue</th>\n",
              "      <th>demand_police_brutality</th>\n",
              "      <th>demand_political_behavior_or_process</th>\n",
              "      <th>demand_price_hike_or_tax_policy</th>\n",
              "      <th>demand_removal_of_politician</th>\n",
              "      <th>demand_social_restrictions</th>\n",
              "      <th>y_accomodation</th>\n",
              "      <th>y_ignore</th>\n",
              "      <th>y_adverse_reaction</th>\n",
              "      <th>y_state_violence</th>\n",
              "      <th>protest_length_category</th>\n",
              "    </tr>\n",
              "  </thead>\n",
              "  <tbody>\n",
              "    <tr>\n",
              "      <th>0</th>\n",
              "      <td>Cuba</td>\n",
              "      <td>2012</td>\n",
              "      <td>Central America</td>\n",
              "      <td>0.0</td>\n",
              "      <td>50.0</td>\n",
              "      <td>0</td>\n",
              "      <td>0</td>\n",
              "      <td>0</td>\n",
              "      <td>1</td>\n",
              "      <td>0</td>\n",
              "      <td>0</td>\n",
              "      <td>0</td>\n",
              "      <td>0</td>\n",
              "      <td>0</td>\n",
              "      <td>1</td>\n",
              "      <td>0</td>\n",
              "      <td>1 month</td>\n",
              "    </tr>\n",
              "    <tr>\n",
              "      <th>1</th>\n",
              "      <td>Cuba</td>\n",
              "      <td>2014</td>\n",
              "      <td>Central America</td>\n",
              "      <td>0.0</td>\n",
              "      <td>100.0</td>\n",
              "      <td>1</td>\n",
              "      <td>0</td>\n",
              "      <td>0</td>\n",
              "      <td>0</td>\n",
              "      <td>0</td>\n",
              "      <td>0</td>\n",
              "      <td>0</td>\n",
              "      <td>0</td>\n",
              "      <td>0</td>\n",
              "      <td>1</td>\n",
              "      <td>1</td>\n",
              "      <td>1 month</td>\n",
              "    </tr>\n",
              "    <tr>\n",
              "      <th>2</th>\n",
              "      <td>Cuba</td>\n",
              "      <td>2014</td>\n",
              "      <td>Central America</td>\n",
              "      <td>0.0</td>\n",
              "      <td>50.0</td>\n",
              "      <td>0</td>\n",
              "      <td>0</td>\n",
              "      <td>0</td>\n",
              "      <td>1</td>\n",
              "      <td>0</td>\n",
              "      <td>0</td>\n",
              "      <td>0</td>\n",
              "      <td>0</td>\n",
              "      <td>0</td>\n",
              "      <td>1</td>\n",
              "      <td>0</td>\n",
              "      <td>1 month</td>\n",
              "    </tr>\n",
              "    <tr>\n",
              "      <th>3</th>\n",
              "      <td>Cuba</td>\n",
              "      <td>2015</td>\n",
              "      <td>Central America</td>\n",
              "      <td>0.0</td>\n",
              "      <td>100.0</td>\n",
              "      <td>0</td>\n",
              "      <td>0</td>\n",
              "      <td>0</td>\n",
              "      <td>1</td>\n",
              "      <td>0</td>\n",
              "      <td>0</td>\n",
              "      <td>0</td>\n",
              "      <td>0</td>\n",
              "      <td>0</td>\n",
              "      <td>1</td>\n",
              "      <td>0</td>\n",
              "      <td>1 month</td>\n",
              "    </tr>\n",
              "    <tr>\n",
              "      <th>4</th>\n",
              "      <td>Cuba</td>\n",
              "      <td>2015</td>\n",
              "      <td>Central America</td>\n",
              "      <td>0.0</td>\n",
              "      <td>100.0</td>\n",
              "      <td>0</td>\n",
              "      <td>0</td>\n",
              "      <td>0</td>\n",
              "      <td>1</td>\n",
              "      <td>0</td>\n",
              "      <td>0</td>\n",
              "      <td>0</td>\n",
              "      <td>0</td>\n",
              "      <td>0</td>\n",
              "      <td>1</td>\n",
              "      <td>0</td>\n",
              "      <td>1 month</td>\n",
              "    </tr>\n",
              "  </tbody>\n",
              "</table>\n",
              "</div>\n",
              "      <button class=\"colab-df-convert\" onclick=\"convertToInteractive('df-19175d3f-89c4-4a62-9dee-8ed806944316')\"\n",
              "              title=\"Convert this dataframe to an interactive table.\"\n",
              "              style=\"display:none;\">\n",
              "        \n",
              "  <svg xmlns=\"http://www.w3.org/2000/svg\" height=\"24px\"viewBox=\"0 0 24 24\"\n",
              "       width=\"24px\">\n",
              "    <path d=\"M0 0h24v24H0V0z\" fill=\"none\"/>\n",
              "    <path d=\"M18.56 5.44l.94 2.06.94-2.06 2.06-.94-2.06-.94-.94-2.06-.94 2.06-2.06.94zm-11 1L8.5 8.5l.94-2.06 2.06-.94-2.06-.94L8.5 2.5l-.94 2.06-2.06.94zm10 10l.94 2.06.94-2.06 2.06-.94-2.06-.94-.94-2.06-.94 2.06-2.06.94z\"/><path d=\"M17.41 7.96l-1.37-1.37c-.4-.4-.92-.59-1.43-.59-.52 0-1.04.2-1.43.59L10.3 9.45l-7.72 7.72c-.78.78-.78 2.05 0 2.83L4 21.41c.39.39.9.59 1.41.59.51 0 1.02-.2 1.41-.59l7.78-7.78 2.81-2.81c.8-.78.8-2.07 0-2.86zM5.41 20L4 18.59l7.72-7.72 1.47 1.35L5.41 20z\"/>\n",
              "  </svg>\n",
              "      </button>\n",
              "      \n",
              "  <style>\n",
              "    .colab-df-container {\n",
              "      display:flex;\n",
              "      flex-wrap:wrap;\n",
              "      gap: 12px;\n",
              "    }\n",
              "\n",
              "    .colab-df-convert {\n",
              "      background-color: #E8F0FE;\n",
              "      border: none;\n",
              "      border-radius: 50%;\n",
              "      cursor: pointer;\n",
              "      display: none;\n",
              "      fill: #1967D2;\n",
              "      height: 32px;\n",
              "      padding: 0 0 0 0;\n",
              "      width: 32px;\n",
              "    }\n",
              "\n",
              "    .colab-df-convert:hover {\n",
              "      background-color: #E2EBFA;\n",
              "      box-shadow: 0px 1px 2px rgba(60, 64, 67, 0.3), 0px 1px 3px 1px rgba(60, 64, 67, 0.15);\n",
              "      fill: #174EA6;\n",
              "    }\n",
              "\n",
              "    [theme=dark] .colab-df-convert {\n",
              "      background-color: #3B4455;\n",
              "      fill: #D2E3FC;\n",
              "    }\n",
              "\n",
              "    [theme=dark] .colab-df-convert:hover {\n",
              "      background-color: #434B5C;\n",
              "      box-shadow: 0px 1px 3px 1px rgba(0, 0, 0, 0.15);\n",
              "      filter: drop-shadow(0px 1px 2px rgba(0, 0, 0, 0.3));\n",
              "      fill: #FFFFFF;\n",
              "    }\n",
              "  </style>\n",
              "\n",
              "      <script>\n",
              "        const buttonEl =\n",
              "          document.querySelector('#df-19175d3f-89c4-4a62-9dee-8ed806944316 button.colab-df-convert');\n",
              "        buttonEl.style.display =\n",
              "          google.colab.kernel.accessAllowed ? 'block' : 'none';\n",
              "\n",
              "        async function convertToInteractive(key) {\n",
              "          const element = document.querySelector('#df-19175d3f-89c4-4a62-9dee-8ed806944316');\n",
              "          const dataTable =\n",
              "            await google.colab.kernel.invokeFunction('convertToInteractive',\n",
              "                                                     [key], {});\n",
              "          if (!dataTable) return;\n",
              "\n",
              "          const docLinkHtml = 'Like what you see? Visit the ' +\n",
              "            '<a target=\"_blank\" href=https://colab.research.google.com/notebooks/data_table.ipynb>data table notebook</a>'\n",
              "            + ' to learn more about interactive tables.';\n",
              "          element.innerHTML = '';\n",
              "          dataTable['output_type'] = 'display_data';\n",
              "          await google.colab.output.renderOutput(dataTable, element);\n",
              "          const docLink = document.createElement('div');\n",
              "          docLink.innerHTML = docLinkHtml;\n",
              "          element.appendChild(docLink);\n",
              "        }\n",
              "      </script>\n",
              "    </div>\n",
              "  </div>\n",
              "  "
            ],
            "text/plain": [
              "  country  year           region  protesterviolence  participants  \\\n",
              "0    Cuba  2012  Central America                0.0          50.0   \n",
              "1    Cuba  2014  Central America                0.0         100.0   \n",
              "2    Cuba  2014  Central America                0.0          50.0   \n",
              "3    Cuba  2015  Central America                0.0         100.0   \n",
              "4    Cuba  2015  Central America                0.0         100.0   \n",
              "\n",
              "   demand_labor_wage_dispute  demand_land_farm_issue  demand_police_brutality  \\\n",
              "0                          0                       0                        0   \n",
              "1                          1                       0                        0   \n",
              "2                          0                       0                        0   \n",
              "3                          0                       0                        0   \n",
              "4                          0                       0                        0   \n",
              "\n",
              "   demand_political_behavior_or_process  demand_price_hike_or_tax_policy  \\\n",
              "0                                     1                                0   \n",
              "1                                     0                                0   \n",
              "2                                     1                                0   \n",
              "3                                     1                                0   \n",
              "4                                     1                                0   \n",
              "\n",
              "   demand_removal_of_politician  demand_social_restrictions  y_accomodation  \\\n",
              "0                             0                           0               0   \n",
              "1                             0                           0               0   \n",
              "2                             0                           0               0   \n",
              "3                             0                           0               0   \n",
              "4                             0                           0               0   \n",
              "\n",
              "   y_ignore  y_adverse_reaction  y_state_violence protest_length_category  \n",
              "0         0                   1                 0                 1 month  \n",
              "1         0                   1                 1                 1 month  \n",
              "2         0                   1                 0                 1 month  \n",
              "3         0                   1                 0                 1 month  \n",
              "4         0                   1                 0                 1 month  "
            ]
          },
          "metadata": {},
          "execution_count": 51
        }
      ]
    },
    {
      "cell_type": "code",
      "source": [
        "# export the dataframe to the local machine.\n",
        "from google.colab import files\n",
        "df.to_csv('cleaned_protests.csv') \n",
        "files.download('cleaned_protests.csv')"
      ],
      "metadata": {
        "colab": {
          "base_uri": "https://localhost:8080/",
          "height": 17
        },
        "id": "mPpQ9Fo40GJJ",
        "outputId": "f71889b5-aff7-417d-c39d-dd657761e22e"
      },
      "execution_count": null,
      "outputs": [
        {
          "output_type": "display_data",
          "data": {
            "application/javascript": [
              "\n",
              "    async function download(id, filename, size) {\n",
              "      if (!google.colab.kernel.accessAllowed) {\n",
              "        return;\n",
              "      }\n",
              "      const div = document.createElement('div');\n",
              "      const label = document.createElement('label');\n",
              "      label.textContent = `Downloading \"${filename}\": `;\n",
              "      div.appendChild(label);\n",
              "      const progress = document.createElement('progress');\n",
              "      progress.max = size;\n",
              "      div.appendChild(progress);\n",
              "      document.body.appendChild(div);\n",
              "\n",
              "      const buffers = [];\n",
              "      let downloaded = 0;\n",
              "\n",
              "      const channel = await google.colab.kernel.comms.open(id);\n",
              "      // Send a message to notify the kernel that we're ready.\n",
              "      channel.send({})\n",
              "\n",
              "      for await (const message of channel.messages) {\n",
              "        // Send a message to notify the kernel that we're ready.\n",
              "        channel.send({})\n",
              "        if (message.buffers) {\n",
              "          for (const buffer of message.buffers) {\n",
              "            buffers.push(buffer);\n",
              "            downloaded += buffer.byteLength;\n",
              "            progress.value = downloaded;\n",
              "          }\n",
              "        }\n",
              "      }\n",
              "      const blob = new Blob(buffers, {type: 'application/binary'});\n",
              "      const a = document.createElement('a');\n",
              "      a.href = window.URL.createObjectURL(blob);\n",
              "      a.download = filename;\n",
              "      div.appendChild(a);\n",
              "      a.click();\n",
              "      div.remove();\n",
              "    }\n",
              "  "
            ],
            "text/plain": [
              "<IPython.core.display.Javascript object>"
            ]
          },
          "metadata": {}
        },
        {
          "output_type": "display_data",
          "data": {
            "application/javascript": [
              "download(\"download_7e400250-277a-4d50-9d9a-21e6e463704d\", \"cleaned_protests.csv\", 685333)"
            ],
            "text/plain": [
              "<IPython.core.display.Javascript object>"
            ]
          },
          "metadata": {}
        }
      ]
    },
    {
      "cell_type": "code",
      "source": [
        "# create a directory for the csv file in colab.\n",
        "!mkdir -p protests\n",
        "from google.colab import files\n",
        "uploaded= files.upload()\n",
        "# move the file to its directory.\n",
        "!mv cleaned_protests.csv protests/\n",
        "# associate path with the directory\n",
        "path = Path('protests')\n",
        "# ingest the dataset into the df_train DataFrame\n",
        "df_train=pd.read_csv(path/'cleaned_protests.csv')\n",
        "df_train.head()"
      ],
      "metadata": {
        "colab": {
          "resources": {
            "http://localhost:8080/nbextensions/google.colab/files.js": {
              "data": "Ly8gQ29weXJpZ2h0IDIwMTcgR29vZ2xlIExMQwovLwovLyBMaWNlbnNlZCB1bmRlciB0aGUgQXBhY2hlIExpY2Vuc2UsIFZlcnNpb24gMi4wICh0aGUgIkxpY2Vuc2UiKTsKLy8geW91IG1heSBub3QgdXNlIHRoaXMgZmlsZSBleGNlcHQgaW4gY29tcGxpYW5jZSB3aXRoIHRoZSBMaWNlbnNlLgovLyBZb3UgbWF5IG9idGFpbiBhIGNvcHkgb2YgdGhlIExpY2Vuc2UgYXQKLy8KLy8gICAgICBodHRwOi8vd3d3LmFwYWNoZS5vcmcvbGljZW5zZXMvTElDRU5TRS0yLjAKLy8KLy8gVW5sZXNzIHJlcXVpcmVkIGJ5IGFwcGxpY2FibGUgbGF3IG9yIGFncmVlZCB0byBpbiB3cml0aW5nLCBzb2Z0d2FyZQovLyBkaXN0cmlidXRlZCB1bmRlciB0aGUgTGljZW5zZSBpcyBkaXN0cmlidXRlZCBvbiBhbiAiQVMgSVMiIEJBU0lTLAovLyBXSVRIT1VUIFdBUlJBTlRJRVMgT1IgQ09ORElUSU9OUyBPRiBBTlkgS0lORCwgZWl0aGVyIGV4cHJlc3Mgb3IgaW1wbGllZC4KLy8gU2VlIHRoZSBMaWNlbnNlIGZvciB0aGUgc3BlY2lmaWMgbGFuZ3VhZ2UgZ292ZXJuaW5nIHBlcm1pc3Npb25zIGFuZAovLyBsaW1pdGF0aW9ucyB1bmRlciB0aGUgTGljZW5zZS4KCi8qKgogKiBAZmlsZW92ZXJ2aWV3IEhlbHBlcnMgZm9yIGdvb2dsZS5jb2xhYiBQeXRob24gbW9kdWxlLgogKi8KKGZ1bmN0aW9uKHNjb3BlKSB7CmZ1bmN0aW9uIHNwYW4odGV4dCwgc3R5bGVBdHRyaWJ1dGVzID0ge30pIHsKICBjb25zdCBlbGVtZW50ID0gZG9jdW1lbnQuY3JlYXRlRWxlbWVudCgnc3BhbicpOwogIGVsZW1lbnQudGV4dENvbnRlbnQgPSB0ZXh0OwogIGZvciAoY29uc3Qga2V5IG9mIE9iamVjdC5rZXlzKHN0eWxlQXR0cmlidXRlcykpIHsKICAgIGVsZW1lbnQuc3R5bGVba2V5XSA9IHN0eWxlQXR0cmlidXRlc1trZXldOwogIH0KICByZXR1cm4gZWxlbWVudDsKfQoKLy8gTWF4IG51bWJlciBvZiBieXRlcyB3aGljaCB3aWxsIGJlIHVwbG9hZGVkIGF0IGEgdGltZS4KY29uc3QgTUFYX1BBWUxPQURfU0laRSA9IDEwMCAqIDEwMjQ7CgpmdW5jdGlvbiBfdXBsb2FkRmlsZXMoaW5wdXRJZCwgb3V0cHV0SWQpIHsKICBjb25zdCBzdGVwcyA9IHVwbG9hZEZpbGVzU3RlcChpbnB1dElkLCBvdXRwdXRJZCk7CiAgY29uc3Qgb3V0cHV0RWxlbWVudCA9IGRvY3VtZW50LmdldEVsZW1lbnRCeUlkKG91dHB1dElkKTsKICAvLyBDYWNoZSBzdGVwcyBvbiB0aGUgb3V0cHV0RWxlbWVudCB0byBtYWtlIGl0IGF2YWlsYWJsZSBmb3IgdGhlIG5leHQgY2FsbAogIC8vIHRvIHVwbG9hZEZpbGVzQ29udGludWUgZnJvbSBQeXRob24uCiAgb3V0cHV0RWxlbWVudC5zdGVwcyA9IHN0ZXBzOwoKICByZXR1cm4gX3VwbG9hZEZpbGVzQ29udGludWUob3V0cHV0SWQpOwp9CgovLyBUaGlzIGlzIHJvdWdobHkgYW4gYXN5bmMgZ2VuZXJhdG9yIChub3Qgc3VwcG9ydGVkIGluIHRoZSBicm93c2VyIHlldCksCi8vIHdoZXJlIHRoZXJlIGFyZSBtdWx0aXBsZSBhc3luY2hyb25vdXMgc3RlcHMgYW5kIHRoZSBQeXRob24gc2lkZSBpcyBnb2luZwovLyB0byBwb2xsIGZvciBjb21wbGV0aW9uIG9mIGVhY2ggc3RlcC4KLy8gVGhpcyB1c2VzIGEgUHJvbWlzZSB0byBibG9jayB0aGUgcHl0aG9uIHNpZGUgb24gY29tcGxldGlvbiBvZiBlYWNoIHN0ZXAsCi8vIHRoZW4gcGFzc2VzIHRoZSByZXN1bHQgb2YgdGhlIHByZXZpb3VzIHN0ZXAgYXMgdGhlIGlucHV0IHRvIHRoZSBuZXh0IHN0ZXAuCmZ1bmN0aW9uIF91cGxvYWRGaWxlc0NvbnRpbnVlKG91dHB1dElkKSB7CiAgY29uc3Qgb3V0cHV0RWxlbWVudCA9IGRvY3VtZW50LmdldEVsZW1lbnRCeUlkKG91dHB1dElkKTsKICBjb25zdCBzdGVwcyA9IG91dHB1dEVsZW1lbnQuc3RlcHM7CgogIGNvbnN0IG5leHQgPSBzdGVwcy5uZXh0KG91dHB1dEVsZW1lbnQubGFzdFByb21pc2VWYWx1ZSk7CiAgcmV0dXJuIFByb21pc2UucmVzb2x2ZShuZXh0LnZhbHVlLnByb21pc2UpLnRoZW4oKHZhbHVlKSA9PiB7CiAgICAvLyBDYWNoZSB0aGUgbGFzdCBwcm9taXNlIHZhbHVlIHRvIG1ha2UgaXQgYXZhaWxhYmxlIHRvIHRoZSBuZXh0CiAgICAvLyBzdGVwIG9mIHRoZSBnZW5lcmF0b3IuCiAgICBvdXRwdXRFbGVtZW50Lmxhc3RQcm9taXNlVmFsdWUgPSB2YWx1ZTsKICAgIHJldHVybiBuZXh0LnZhbHVlLnJlc3BvbnNlOwogIH0pOwp9CgovKioKICogR2VuZXJhdG9yIGZ1bmN0aW9uIHdoaWNoIGlzIGNhbGxlZCBiZXR3ZWVuIGVhY2ggYXN5bmMgc3RlcCBvZiB0aGUgdXBsb2FkCiAqIHByb2Nlc3MuCiAqIEBwYXJhbSB7c3RyaW5nfSBpbnB1dElkIEVsZW1lbnQgSUQgb2YgdGhlIGlucHV0IGZpbGUgcGlja2VyIGVsZW1lbnQuCiAqIEBwYXJhbSB7c3RyaW5nfSBvdXRwdXRJZCBFbGVtZW50IElEIG9mIHRoZSBvdXRwdXQgZGlzcGxheS4KICogQHJldHVybiB7IUl0ZXJhYmxlPCFPYmplY3Q+fSBJdGVyYWJsZSBvZiBuZXh0IHN0ZXBzLgogKi8KZnVuY3Rpb24qIHVwbG9hZEZpbGVzU3RlcChpbnB1dElkLCBvdXRwdXRJZCkgewogIGNvbnN0IGlucHV0RWxlbWVudCA9IGRvY3VtZW50LmdldEVsZW1lbnRCeUlkKGlucHV0SWQpOwogIGlucHV0RWxlbWVudC5kaXNhYmxlZCA9IGZhbHNlOwoKICBjb25zdCBvdXRwdXRFbGVtZW50ID0gZG9jdW1lbnQuZ2V0RWxlbWVudEJ5SWQob3V0cHV0SWQpOwogIG91dHB1dEVsZW1lbnQuaW5uZXJIVE1MID0gJyc7CgogIGNvbnN0IHBpY2tlZFByb21pc2UgPSBuZXcgUHJvbWlzZSgocmVzb2x2ZSkgPT4gewogICAgaW5wdXRFbGVtZW50LmFkZEV2ZW50TGlzdGVuZXIoJ2NoYW5nZScsIChlKSA9PiB7CiAgICAgIHJlc29sdmUoZS50YXJnZXQuZmlsZXMpOwogICAgfSk7CiAgfSk7CgogIGNvbnN0IGNhbmNlbCA9IGRvY3VtZW50LmNyZWF0ZUVsZW1lbnQoJ2J1dHRvbicpOwogIGlucHV0RWxlbWVudC5wYXJlbnRFbGVtZW50LmFwcGVuZENoaWxkKGNhbmNlbCk7CiAgY2FuY2VsLnRleHRDb250ZW50ID0gJ0NhbmNlbCB1cGxvYWQnOwogIGNvbnN0IGNhbmNlbFByb21pc2UgPSBuZXcgUHJvbWlzZSgocmVzb2x2ZSkgPT4gewogICAgY2FuY2VsLm9uY2xpY2sgPSAoKSA9PiB7CiAgICAgIHJlc29sdmUobnVsbCk7CiAgICB9OwogIH0pOwoKICAvLyBXYWl0IGZvciB0aGUgdXNlciB0byBwaWNrIHRoZSBmaWxlcy4KICBjb25zdCBmaWxlcyA9IHlpZWxkIHsKICAgIHByb21pc2U6IFByb21pc2UucmFjZShbcGlja2VkUHJvbWlzZSwgY2FuY2VsUHJvbWlzZV0pLAogICAgcmVzcG9uc2U6IHsKICAgICAgYWN0aW9uOiAnc3RhcnRpbmcnLAogICAgfQogIH07CgogIGNhbmNlbC5yZW1vdmUoKTsKCiAgLy8gRGlzYWJsZSB0aGUgaW5wdXQgZWxlbWVudCBzaW5jZSBmdXJ0aGVyIHBpY2tzIGFyZSBub3QgYWxsb3dlZC4KICBpbnB1dEVsZW1lbnQuZGlzYWJsZWQgPSB0cnVlOwoKICBpZiAoIWZpbGVzKSB7CiAgICByZXR1cm4gewogICAgICByZXNwb25zZTogewogICAgICAgIGFjdGlvbjogJ2NvbXBsZXRlJywKICAgICAgfQogICAgfTsKICB9CgogIGZvciAoY29uc3QgZmlsZSBvZiBmaWxlcykgewogICAgY29uc3QgbGkgPSBkb2N1bWVudC5jcmVhdGVFbGVtZW50KCdsaScpOwogICAgbGkuYXBwZW5kKHNwYW4oZmlsZS5uYW1lLCB7Zm9udFdlaWdodDogJ2JvbGQnfSkpOwogICAgbGkuYXBwZW5kKHNwYW4oCiAgICAgICAgYCgke2ZpbGUudHlwZSB8fCAnbi9hJ30pIC0gJHtmaWxlLnNpemV9IGJ5dGVzLCBgICsKICAgICAgICBgbGFzdCBtb2RpZmllZDogJHsKICAgICAgICAgICAgZmlsZS5sYXN0TW9kaWZpZWREYXRlID8gZmlsZS5sYXN0TW9kaWZpZWREYXRlLnRvTG9jYWxlRGF0ZVN0cmluZygpIDoKICAgICAgICAgICAgICAgICAgICAgICAgICAgICAgICAgICAgJ24vYSd9IC0gYCkpOwogICAgY29uc3QgcGVyY2VudCA9IHNwYW4oJzAlIGRvbmUnKTsKICAgIGxpLmFwcGVuZENoaWxkKHBlcmNlbnQpOwoKICAgIG91dHB1dEVsZW1lbnQuYXBwZW5kQ2hpbGQobGkpOwoKICAgIGNvbnN0IGZpbGVEYXRhUHJvbWlzZSA9IG5ldyBQcm9taXNlKChyZXNvbHZlKSA9PiB7CiAgICAgIGNvbnN0IHJlYWRlciA9IG5ldyBGaWxlUmVhZGVyKCk7CiAgICAgIHJlYWRlci5vbmxvYWQgPSAoZSkgPT4gewogICAgICAgIHJlc29sdmUoZS50YXJnZXQucmVzdWx0KTsKICAgICAgfTsKICAgICAgcmVhZGVyLnJlYWRBc0FycmF5QnVmZmVyKGZpbGUpOwogICAgfSk7CiAgICAvLyBXYWl0IGZvciB0aGUgZGF0YSB0byBiZSByZWFkeS4KICAgIGxldCBmaWxlRGF0YSA9IHlpZWxkIHsKICAgICAgcHJvbWlzZTogZmlsZURhdGFQcm9taXNlLAogICAgICByZXNwb25zZTogewogICAgICAgIGFjdGlvbjogJ2NvbnRpbnVlJywKICAgICAgfQogICAgfTsKCiAgICAvLyBVc2UgYSBjaHVua2VkIHNlbmRpbmcgdG8gYXZvaWQgbWVzc2FnZSBzaXplIGxpbWl0cy4gU2VlIGIvNjIxMTU2NjAuCiAgICBsZXQgcG9zaXRpb24gPSAwOwogICAgZG8gewogICAgICBjb25zdCBsZW5ndGggPSBNYXRoLm1pbihmaWxlRGF0YS5ieXRlTGVuZ3RoIC0gcG9zaXRpb24sIE1BWF9QQVlMT0FEX1NJWkUpOwogICAgICBjb25zdCBjaHVuayA9IG5ldyBVaW50OEFycmF5KGZpbGVEYXRhLCBwb3NpdGlvbiwgbGVuZ3RoKTsKICAgICAgcG9zaXRpb24gKz0gbGVuZ3RoOwoKICAgICAgY29uc3QgYmFzZTY0ID0gYnRvYShTdHJpbmcuZnJvbUNoYXJDb2RlLmFwcGx5KG51bGwsIGNodW5rKSk7CiAgICAgIHlpZWxkIHsKICAgICAgICByZXNwb25zZTogewogICAgICAgICAgYWN0aW9uOiAnYXBwZW5kJywKICAgICAgICAgIGZpbGU6IGZpbGUubmFtZSwKICAgICAgICAgIGRhdGE6IGJhc2U2NCwKICAgICAgICB9LAogICAgICB9OwoKICAgICAgbGV0IHBlcmNlbnREb25lID0gZmlsZURhdGEuYnl0ZUxlbmd0aCA9PT0gMCA/CiAgICAgICAgICAxMDAgOgogICAgICAgICAgTWF0aC5yb3VuZCgocG9zaXRpb24gLyBmaWxlRGF0YS5ieXRlTGVuZ3RoKSAqIDEwMCk7CiAgICAgIHBlcmNlbnQudGV4dENvbnRlbnQgPSBgJHtwZXJjZW50RG9uZX0lIGRvbmVgOwoKICAgIH0gd2hpbGUgKHBvc2l0aW9uIDwgZmlsZURhdGEuYnl0ZUxlbmd0aCk7CiAgfQoKICAvLyBBbGwgZG9uZS4KICB5aWVsZCB7CiAgICByZXNwb25zZTogewogICAgICBhY3Rpb246ICdjb21wbGV0ZScsCiAgICB9CiAgfTsKfQoKc2NvcGUuZ29vZ2xlID0gc2NvcGUuZ29vZ2xlIHx8IHt9OwpzY29wZS5nb29nbGUuY29sYWIgPSBzY29wZS5nb29nbGUuY29sYWIgfHwge307CnNjb3BlLmdvb2dsZS5jb2xhYi5fZmlsZXMgPSB7CiAgX3VwbG9hZEZpbGVzLAogIF91cGxvYWRGaWxlc0NvbnRpbnVlLAp9Owp9KShzZWxmKTsK",
              "ok": true,
              "headers": [
                [
                  "content-type",
                  "application/javascript"
                ]
              ],
              "status": 200,
              "status_text": ""
            }
          },
          "base_uri": "https://localhost:8080/",
          "height": 430
        },
        "id": "iJwFc2XD3yT9",
        "outputId": "8e15fb0e-d20a-4a02-9e54-a79e87add880"
      },
      "execution_count": null,
      "outputs": [
        {
          "output_type": "display_data",
          "data": {
            "text/html": [
              "\n",
              "     <input type=\"file\" id=\"files-7d762fe7-941a-4585-8cf6-f8b8e49b9016\" name=\"files[]\" multiple disabled\n",
              "        style=\"border:none\" />\n",
              "     <output id=\"result-7d762fe7-941a-4585-8cf6-f8b8e49b9016\">\n",
              "      Upload widget is only available when the cell has been executed in the\n",
              "      current browser session. Please rerun this cell to enable.\n",
              "      </output>\n",
              "      <script src=\"/nbextensions/google.colab/files.js\"></script> "
            ],
            "text/plain": [
              "<IPython.core.display.HTML object>"
            ]
          },
          "metadata": {}
        },
        {
          "output_type": "stream",
          "name": "stdout",
          "text": [
            "Saving cleaned_protests.csv to cleaned_protests.csv\n"
          ]
        },
        {
          "output_type": "execute_result",
          "data": {
            "text/html": [
              "\n",
              "  <div id=\"df-b5531b36-9d93-4c38-9cf4-49aa1715e302\">\n",
              "    <div class=\"colab-df-container\">\n",
              "      <div>\n",
              "<style scoped>\n",
              "    .dataframe tbody tr th:only-of-type {\n",
              "        vertical-align: middle;\n",
              "    }\n",
              "\n",
              "    .dataframe tbody tr th {\n",
              "        vertical-align: top;\n",
              "    }\n",
              "\n",
              "    .dataframe thead th {\n",
              "        text-align: right;\n",
              "    }\n",
              "</style>\n",
              "<table border=\"1\" class=\"dataframe\">\n",
              "  <thead>\n",
              "    <tr style=\"text-align: right;\">\n",
              "      <th></th>\n",
              "      <th>Unnamed: 0</th>\n",
              "      <th>country</th>\n",
              "      <th>year</th>\n",
              "      <th>region</th>\n",
              "      <th>protesterviolence</th>\n",
              "      <th>participants</th>\n",
              "      <th>demand_labor_wage_dispute</th>\n",
              "      <th>demand_land_farm_issue</th>\n",
              "      <th>demand_police_brutality</th>\n",
              "      <th>demand_political_behavior_or_process</th>\n",
              "      <th>demand_price_hike_or_tax_policy</th>\n",
              "      <th>demand_removal_of_politician</th>\n",
              "      <th>demand_social_restrictions</th>\n",
              "      <th>y_accomodation</th>\n",
              "      <th>y_ignore</th>\n",
              "      <th>y_adverse_reaction</th>\n",
              "      <th>y_state_violence</th>\n",
              "      <th>protest_length_category</th>\n",
              "    </tr>\n",
              "  </thead>\n",
              "  <tbody>\n",
              "    <tr>\n",
              "      <th>0</th>\n",
              "      <td>0</td>\n",
              "      <td>Cuba</td>\n",
              "      <td>2012</td>\n",
              "      <td>Central America</td>\n",
              "      <td>0.0</td>\n",
              "      <td>50.0</td>\n",
              "      <td>0</td>\n",
              "      <td>0</td>\n",
              "      <td>0</td>\n",
              "      <td>1</td>\n",
              "      <td>0</td>\n",
              "      <td>0</td>\n",
              "      <td>0</td>\n",
              "      <td>0</td>\n",
              "      <td>0</td>\n",
              "      <td>1</td>\n",
              "      <td>0</td>\n",
              "      <td>1 month</td>\n",
              "    </tr>\n",
              "    <tr>\n",
              "      <th>1</th>\n",
              "      <td>1</td>\n",
              "      <td>Cuba</td>\n",
              "      <td>2014</td>\n",
              "      <td>Central America</td>\n",
              "      <td>0.0</td>\n",
              "      <td>100.0</td>\n",
              "      <td>1</td>\n",
              "      <td>0</td>\n",
              "      <td>0</td>\n",
              "      <td>0</td>\n",
              "      <td>0</td>\n",
              "      <td>0</td>\n",
              "      <td>0</td>\n",
              "      <td>0</td>\n",
              "      <td>0</td>\n",
              "      <td>1</td>\n",
              "      <td>1</td>\n",
              "      <td>1 month</td>\n",
              "    </tr>\n",
              "    <tr>\n",
              "      <th>2</th>\n",
              "      <td>2</td>\n",
              "      <td>Cuba</td>\n",
              "      <td>2014</td>\n",
              "      <td>Central America</td>\n",
              "      <td>0.0</td>\n",
              "      <td>50.0</td>\n",
              "      <td>0</td>\n",
              "      <td>0</td>\n",
              "      <td>0</td>\n",
              "      <td>1</td>\n",
              "      <td>0</td>\n",
              "      <td>0</td>\n",
              "      <td>0</td>\n",
              "      <td>0</td>\n",
              "      <td>0</td>\n",
              "      <td>1</td>\n",
              "      <td>0</td>\n",
              "      <td>1 month</td>\n",
              "    </tr>\n",
              "    <tr>\n",
              "      <th>3</th>\n",
              "      <td>3</td>\n",
              "      <td>Cuba</td>\n",
              "      <td>2015</td>\n",
              "      <td>Central America</td>\n",
              "      <td>0.0</td>\n",
              "      <td>100.0</td>\n",
              "      <td>0</td>\n",
              "      <td>0</td>\n",
              "      <td>0</td>\n",
              "      <td>1</td>\n",
              "      <td>0</td>\n",
              "      <td>0</td>\n",
              "      <td>0</td>\n",
              "      <td>0</td>\n",
              "      <td>0</td>\n",
              "      <td>1</td>\n",
              "      <td>0</td>\n",
              "      <td>1 month</td>\n",
              "    </tr>\n",
              "    <tr>\n",
              "      <th>4</th>\n",
              "      <td>4</td>\n",
              "      <td>Cuba</td>\n",
              "      <td>2015</td>\n",
              "      <td>Central America</td>\n",
              "      <td>0.0</td>\n",
              "      <td>100.0</td>\n",
              "      <td>0</td>\n",
              "      <td>0</td>\n",
              "      <td>0</td>\n",
              "      <td>1</td>\n",
              "      <td>0</td>\n",
              "      <td>0</td>\n",
              "      <td>0</td>\n",
              "      <td>0</td>\n",
              "      <td>0</td>\n",
              "      <td>1</td>\n",
              "      <td>0</td>\n",
              "      <td>1 month</td>\n",
              "    </tr>\n",
              "  </tbody>\n",
              "</table>\n",
              "</div>\n",
              "      <button class=\"colab-df-convert\" onclick=\"convertToInteractive('df-b5531b36-9d93-4c38-9cf4-49aa1715e302')\"\n",
              "              title=\"Convert this dataframe to an interactive table.\"\n",
              "              style=\"display:none;\">\n",
              "        \n",
              "  <svg xmlns=\"http://www.w3.org/2000/svg\" height=\"24px\"viewBox=\"0 0 24 24\"\n",
              "       width=\"24px\">\n",
              "    <path d=\"M0 0h24v24H0V0z\" fill=\"none\"/>\n",
              "    <path d=\"M18.56 5.44l.94 2.06.94-2.06 2.06-.94-2.06-.94-.94-2.06-.94 2.06-2.06.94zm-11 1L8.5 8.5l.94-2.06 2.06-.94-2.06-.94L8.5 2.5l-.94 2.06-2.06.94zm10 10l.94 2.06.94-2.06 2.06-.94-2.06-.94-.94-2.06-.94 2.06-2.06.94z\"/><path d=\"M17.41 7.96l-1.37-1.37c-.4-.4-.92-.59-1.43-.59-.52 0-1.04.2-1.43.59L10.3 9.45l-7.72 7.72c-.78.78-.78 2.05 0 2.83L4 21.41c.39.39.9.59 1.41.59.51 0 1.02-.2 1.41-.59l7.78-7.78 2.81-2.81c.8-.78.8-2.07 0-2.86zM5.41 20L4 18.59l7.72-7.72 1.47 1.35L5.41 20z\"/>\n",
              "  </svg>\n",
              "      </button>\n",
              "      \n",
              "  <style>\n",
              "    .colab-df-container {\n",
              "      display:flex;\n",
              "      flex-wrap:wrap;\n",
              "      gap: 12px;\n",
              "    }\n",
              "\n",
              "    .colab-df-convert {\n",
              "      background-color: #E8F0FE;\n",
              "      border: none;\n",
              "      border-radius: 50%;\n",
              "      cursor: pointer;\n",
              "      display: none;\n",
              "      fill: #1967D2;\n",
              "      height: 32px;\n",
              "      padding: 0 0 0 0;\n",
              "      width: 32px;\n",
              "    }\n",
              "\n",
              "    .colab-df-convert:hover {\n",
              "      background-color: #E2EBFA;\n",
              "      box-shadow: 0px 1px 2px rgba(60, 64, 67, 0.3), 0px 1px 3px 1px rgba(60, 64, 67, 0.15);\n",
              "      fill: #174EA6;\n",
              "    }\n",
              "\n",
              "    [theme=dark] .colab-df-convert {\n",
              "      background-color: #3B4455;\n",
              "      fill: #D2E3FC;\n",
              "    }\n",
              "\n",
              "    [theme=dark] .colab-df-convert:hover {\n",
              "      background-color: #434B5C;\n",
              "      box-shadow: 0px 1px 3px 1px rgba(0, 0, 0, 0.15);\n",
              "      filter: drop-shadow(0px 1px 2px rgba(0, 0, 0, 0.3));\n",
              "      fill: #FFFFFF;\n",
              "    }\n",
              "  </style>\n",
              "\n",
              "      <script>\n",
              "        const buttonEl =\n",
              "          document.querySelector('#df-b5531b36-9d93-4c38-9cf4-49aa1715e302 button.colab-df-convert');\n",
              "        buttonEl.style.display =\n",
              "          google.colab.kernel.accessAllowed ? 'block' : 'none';\n",
              "\n",
              "        async function convertToInteractive(key) {\n",
              "          const element = document.querySelector('#df-b5531b36-9d93-4c38-9cf4-49aa1715e302');\n",
              "          const dataTable =\n",
              "            await google.colab.kernel.invokeFunction('convertToInteractive',\n",
              "                                                     [key], {});\n",
              "          if (!dataTable) return;\n",
              "\n",
              "          const docLinkHtml = 'Like what you see? Visit the ' +\n",
              "            '<a target=\"_blank\" href=https://colab.research.google.com/notebooks/data_table.ipynb>data table notebook</a>'\n",
              "            + ' to learn more about interactive tables.';\n",
              "          element.innerHTML = '';\n",
              "          dataTable['output_type'] = 'display_data';\n",
              "          await google.colab.output.renderOutput(dataTable, element);\n",
              "          const docLink = document.createElement('div');\n",
              "          docLink.innerHTML = docLinkHtml;\n",
              "          element.appendChild(docLink);\n",
              "        }\n",
              "      </script>\n",
              "    </div>\n",
              "  </div>\n",
              "  "
            ],
            "text/plain": [
              "   Unnamed: 0 country  year           region  protesterviolence  participants  \\\n",
              "0           0    Cuba  2012  Central America                0.0          50.0   \n",
              "1           1    Cuba  2014  Central America                0.0         100.0   \n",
              "2           2    Cuba  2014  Central America                0.0          50.0   \n",
              "3           3    Cuba  2015  Central America                0.0         100.0   \n",
              "4           4    Cuba  2015  Central America                0.0         100.0   \n",
              "\n",
              "   demand_labor_wage_dispute  demand_land_farm_issue  demand_police_brutality  \\\n",
              "0                          0                       0                        0   \n",
              "1                          1                       0                        0   \n",
              "2                          0                       0                        0   \n",
              "3                          0                       0                        0   \n",
              "4                          0                       0                        0   \n",
              "\n",
              "   demand_political_behavior_or_process  demand_price_hike_or_tax_policy  \\\n",
              "0                                     1                                0   \n",
              "1                                     0                                0   \n",
              "2                                     1                                0   \n",
              "3                                     1                                0   \n",
              "4                                     1                                0   \n",
              "\n",
              "   demand_removal_of_politician  demand_social_restrictions  y_accomodation  \\\n",
              "0                             0                           0               0   \n",
              "1                             0                           0               0   \n",
              "2                             0                           0               0   \n",
              "3                             0                           0               0   \n",
              "4                             0                           0               0   \n",
              "\n",
              "   y_ignore  y_adverse_reaction  y_state_violence protest_length_category  \n",
              "0         0                   1                 0                 1 month  \n",
              "1         0                   1                 1                 1 month  \n",
              "2         0                   1                 0                 1 month  \n",
              "3         0                   1                 0                 1 month  \n",
              "4         0                   1                 0                 1 month  "
            ]
          },
          "metadata": {},
          "execution_count": 5
        }
      ]
    },
    {
      "cell_type": "code",
      "source": [
        "# get a count by column of missing values\n",
        "count = df_train.isna().sum()\n",
        "df_train_missing = (pd.concat([count.rename('missing_count'),\n",
        "                     count.div(len(df_train))\n",
        "                          .rename('missing_ratio')],axis = 1)\n",
        "             .loc[count.ne(0)])\n",
        "\n",
        "df_train_missing"
      ],
      "metadata": {
        "id": "jYcNkXjg44QX",
        "colab": {
          "base_uri": "https://localhost:8080/",
          "height": 49
        },
        "outputId": "924a2e8c-299f-4a0c-feb1-c4b2618164e8"
      },
      "execution_count": null,
      "outputs": [
        {
          "output_type": "execute_result",
          "data": {
            "text/html": [
              "\n",
              "  <div id=\"df-c3ee51cd-4c9d-4927-a7a8-46f82fd2170a\">\n",
              "    <div class=\"colab-df-container\">\n",
              "      <div>\n",
              "<style scoped>\n",
              "    .dataframe tbody tr th:only-of-type {\n",
              "        vertical-align: middle;\n",
              "    }\n",
              "\n",
              "    .dataframe tbody tr th {\n",
              "        vertical-align: top;\n",
              "    }\n",
              "\n",
              "    .dataframe thead th {\n",
              "        text-align: right;\n",
              "    }\n",
              "</style>\n",
              "<table border=\"1\" class=\"dataframe\">\n",
              "  <thead>\n",
              "    <tr style=\"text-align: right;\">\n",
              "      <th></th>\n",
              "      <th>missing_count</th>\n",
              "      <th>missing_ratio</th>\n",
              "    </tr>\n",
              "  </thead>\n",
              "  <tbody>\n",
              "  </tbody>\n",
              "</table>\n",
              "</div>\n",
              "      <button class=\"colab-df-convert\" onclick=\"convertToInteractive('df-c3ee51cd-4c9d-4927-a7a8-46f82fd2170a')\"\n",
              "              title=\"Convert this dataframe to an interactive table.\"\n",
              "              style=\"display:none;\">\n",
              "        \n",
              "  <svg xmlns=\"http://www.w3.org/2000/svg\" height=\"24px\"viewBox=\"0 0 24 24\"\n",
              "       width=\"24px\">\n",
              "    <path d=\"M0 0h24v24H0V0z\" fill=\"none\"/>\n",
              "    <path d=\"M18.56 5.44l.94 2.06.94-2.06 2.06-.94-2.06-.94-.94-2.06-.94 2.06-2.06.94zm-11 1L8.5 8.5l.94-2.06 2.06-.94-2.06-.94L8.5 2.5l-.94 2.06-2.06.94zm10 10l.94 2.06.94-2.06 2.06-.94-2.06-.94-.94-2.06-.94 2.06-2.06.94z\"/><path d=\"M17.41 7.96l-1.37-1.37c-.4-.4-.92-.59-1.43-.59-.52 0-1.04.2-1.43.59L10.3 9.45l-7.72 7.72c-.78.78-.78 2.05 0 2.83L4 21.41c.39.39.9.59 1.41.59.51 0 1.02-.2 1.41-.59l7.78-7.78 2.81-2.81c.8-.78.8-2.07 0-2.86zM5.41 20L4 18.59l7.72-7.72 1.47 1.35L5.41 20z\"/>\n",
              "  </svg>\n",
              "      </button>\n",
              "      \n",
              "  <style>\n",
              "    .colab-df-container {\n",
              "      display:flex;\n",
              "      flex-wrap:wrap;\n",
              "      gap: 12px;\n",
              "    }\n",
              "\n",
              "    .colab-df-convert {\n",
              "      background-color: #E8F0FE;\n",
              "      border: none;\n",
              "      border-radius: 50%;\n",
              "      cursor: pointer;\n",
              "      display: none;\n",
              "      fill: #1967D2;\n",
              "      height: 32px;\n",
              "      padding: 0 0 0 0;\n",
              "      width: 32px;\n",
              "    }\n",
              "\n",
              "    .colab-df-convert:hover {\n",
              "      background-color: #E2EBFA;\n",
              "      box-shadow: 0px 1px 2px rgba(60, 64, 67, 0.3), 0px 1px 3px 1px rgba(60, 64, 67, 0.15);\n",
              "      fill: #174EA6;\n",
              "    }\n",
              "\n",
              "    [theme=dark] .colab-df-convert {\n",
              "      background-color: #3B4455;\n",
              "      fill: #D2E3FC;\n",
              "    }\n",
              "\n",
              "    [theme=dark] .colab-df-convert:hover {\n",
              "      background-color: #434B5C;\n",
              "      box-shadow: 0px 1px 3px 1px rgba(0, 0, 0, 0.15);\n",
              "      filter: drop-shadow(0px 1px 2px rgba(0, 0, 0, 0.3));\n",
              "      fill: #FFFFFF;\n",
              "    }\n",
              "  </style>\n",
              "\n",
              "      <script>\n",
              "        const buttonEl =\n",
              "          document.querySelector('#df-c3ee51cd-4c9d-4927-a7a8-46f82fd2170a button.colab-df-convert');\n",
              "        buttonEl.style.display =\n",
              "          google.colab.kernel.accessAllowed ? 'block' : 'none';\n",
              "\n",
              "        async function convertToInteractive(key) {\n",
              "          const element = document.querySelector('#df-c3ee51cd-4c9d-4927-a7a8-46f82fd2170a');\n",
              "          const dataTable =\n",
              "            await google.colab.kernel.invokeFunction('convertToInteractive',\n",
              "                                                     [key], {});\n",
              "          if (!dataTable) return;\n",
              "\n",
              "          const docLinkHtml = 'Like what you see? Visit the ' +\n",
              "            '<a target=\"_blank\" href=https://colab.research.google.com/notebooks/data_table.ipynb>data table notebook</a>'\n",
              "            + ' to learn more about interactive tables.';\n",
              "          element.innerHTML = '';\n",
              "          dataTable['output_type'] = 'display_data';\n",
              "          await google.colab.output.renderOutput(dataTable, element);\n",
              "          const docLink = document.createElement('div');\n",
              "          docLink.innerHTML = docLinkHtml;\n",
              "          element.appendChild(docLink);\n",
              "        }\n",
              "      </script>\n",
              "    </div>\n",
              "  </div>\n",
              "  "
            ],
            "text/plain": [
              "Empty DataFrame\n",
              "Columns: [missing_count, missing_ratio]\n",
              "Index: []"
            ]
          },
          "metadata": {},
          "execution_count": 6
        }
      ]
    },
    {
      "cell_type": "code",
      "source": [
        "# define TabularDataLoaders object using the dataframe, the list of pre-processing steps, \n",
        "# the categorical and continuous column lists\n",
        "# procs = [Categorify, FillMissing, Normalize]\n",
        "# valid_idx = range(len(df_train)-2000, len(df_train))\n",
        "# dep_var = 'protest_length_category'\n",
        "# cat_names = ['country', 'region', 'protest_length_category']\n",
        "# cont_names = ['protest_length']\n",
        "\n",
        "procs = [FillMissing,Categorify]\n",
        "dep_var = 'protest_length_category'\n",
        "cont,cat = cont_cat_split(df_train, 1, dep_var=dep_var) \n",
        "print(\"continuous columns are: \",cont)\n",
        "print(\"categorical columns are: \",cat)"
      ],
      "metadata": {
        "colab": {
          "base_uri": "https://localhost:8080/"
        },
        "id": "thN6jQod5pca",
        "outputId": "4cdddca2-1d66-4df8-ff07-42590b730b59"
      },
      "execution_count": null,
      "outputs": [
        {
          "output_type": "stream",
          "name": "stdout",
          "text": [
            "continuous columns are:  ['Unnamed: 0', 'year', 'protesterviolence', 'participants', 'demand_labor_wage_dispute', 'demand_land_farm_issue', 'demand_police_brutality', 'demand_political_behavior_or_process', 'demand_price_hike_or_tax_policy', 'demand_removal_of_politician', 'demand_social_restrictions', 'y_accomodation', 'y_ignore', 'y_adverse_reaction', 'y_state_violence']\n",
            "categorical columns are:  ['country', 'region']\n"
          ]
        }
      ]
    },
    {
      "cell_type": "code",
      "source": [
        "procs = [FillMissing,Categorify, Normalize]\n",
        "dls = TabularDataLoaders.from_df(df_train,path,procs= procs, \n",
        "                                 cat_names= cat, cont_names = cont, \n",
        "                                 y_names = dep_var, \n",
        "                                 valid_idx=list(range((df_train.shape[0]-2000),df_train.shape[0])), bs=64)"
      ],
      "metadata": {
        "id": "tiw5LvMBEh8L"
      },
      "execution_count": null,
      "outputs": []
    },
    {
      "cell_type": "code",
      "source": [
        "# display a sample batch\n",
        "dls.valid.show_batch()"
      ],
      "metadata": {
        "id": "U-IWwJ3v7CKU",
        "colab": {
          "base_uri": "https://localhost:8080/",
          "height": 417
        },
        "outputId": "7ffa95c3-f9f0-460f-bfc0-67e91580292c"
      },
      "execution_count": null,
      "outputs": [
        {
          "output_type": "display_data",
          "data": {
            "text/html": [
              "<table border=\"1\" class=\"dataframe\">\n",
              "  <thead>\n",
              "    <tr style=\"text-align: right;\">\n",
              "      <th></th>\n",
              "      <th>country</th>\n",
              "      <th>region</th>\n",
              "      <th>Unnamed: 0</th>\n",
              "      <th>year</th>\n",
              "      <th>protesterviolence</th>\n",
              "      <th>participants</th>\n",
              "      <th>demand_labor_wage_dispute</th>\n",
              "      <th>demand_land_farm_issue</th>\n",
              "      <th>demand_police_brutality</th>\n",
              "      <th>demand_political_behavior_or_process</th>\n",
              "      <th>demand_price_hike_or_tax_policy</th>\n",
              "      <th>demand_removal_of_politician</th>\n",
              "      <th>demand_social_restrictions</th>\n",
              "      <th>y_accomodation</th>\n",
              "      <th>y_ignore</th>\n",
              "      <th>y_adverse_reaction</th>\n",
              "      <th>y_state_violence</th>\n",
              "      <th>protest_length_category</th>\n",
              "    </tr>\n",
              "  </thead>\n",
              "  <tbody>\n",
              "    <tr>\n",
              "      <th>0</th>\n",
              "      <td>Kyrgyzstan</td>\n",
              "      <td>Asia</td>\n",
              "      <td>8110.000021</td>\n",
              "      <td>2011.0</td>\n",
              "      <td>1.000000e+00</td>\n",
              "      <td>1999.999706</td>\n",
              "      <td>1.000000e+00</td>\n",
              "      <td>-4.224892e-10</td>\n",
              "      <td>1.759115e-09</td>\n",
              "      <td>1.288647e-09</td>\n",
              "      <td>3.637797e-09</td>\n",
              "      <td>-6.489525e-10</td>\n",
              "      <td>2.565203e-10</td>\n",
              "      <td>2.750655e-09</td>\n",
              "      <td>1.000000e+00</td>\n",
              "      <td>-2.407500e-09</td>\n",
              "      <td>-3.117339e-09</td>\n",
              "      <td>1-3 months</td>\n",
              "    </tr>\n",
              "    <tr>\n",
              "      <th>1</th>\n",
              "      <td>Kyrgyzstan</td>\n",
              "      <td>Asia</td>\n",
              "      <td>8110.999992</td>\n",
              "      <td>2011.0</td>\n",
              "      <td>-8.058123e-09</td>\n",
              "      <td>499.999380</td>\n",
              "      <td>-8.259600e-10</td>\n",
              "      <td>-4.224892e-10</td>\n",
              "      <td>1.759115e-09</td>\n",
              "      <td>1.000000e+00</td>\n",
              "      <td>3.637797e-09</td>\n",
              "      <td>-6.489525e-10</td>\n",
              "      <td>2.565203e-10</td>\n",
              "      <td>2.750655e-09</td>\n",
              "      <td>1.000000e+00</td>\n",
              "      <td>-2.407500e-09</td>\n",
              "      <td>-3.117339e-09</td>\n",
              "      <td>1 month</td>\n",
              "    </tr>\n",
              "    <tr>\n",
              "      <th>2</th>\n",
              "      <td>Kyrgyzstan</td>\n",
              "      <td>Asia</td>\n",
              "      <td>8111.999962</td>\n",
              "      <td>2011.0</td>\n",
              "      <td>-8.058123e-09</td>\n",
              "      <td>149.999631</td>\n",
              "      <td>-8.259600e-10</td>\n",
              "      <td>-4.224892e-10</td>\n",
              "      <td>1.759115e-09</td>\n",
              "      <td>1.000000e+00</td>\n",
              "      <td>3.637797e-09</td>\n",
              "      <td>-6.489525e-10</td>\n",
              "      <td>2.565203e-10</td>\n",
              "      <td>2.750655e-09</td>\n",
              "      <td>1.000000e+00</td>\n",
              "      <td>-2.407500e-09</td>\n",
              "      <td>-3.117339e-09</td>\n",
              "      <td>1 month</td>\n",
              "    </tr>\n",
              "    <tr>\n",
              "      <th>3</th>\n",
              "      <td>Kyrgyzstan</td>\n",
              "      <td>Asia</td>\n",
              "      <td>8112.999932</td>\n",
              "      <td>2011.0</td>\n",
              "      <td>-8.058123e-09</td>\n",
              "      <td>499.999380</td>\n",
              "      <td>-8.259600e-10</td>\n",
              "      <td>-4.224892e-10</td>\n",
              "      <td>1.759115e-09</td>\n",
              "      <td>1.288647e-09</td>\n",
              "      <td>3.637797e-09</td>\n",
              "      <td>1.000000e+00</td>\n",
              "      <td>2.565203e-10</td>\n",
              "      <td>2.750655e-09</td>\n",
              "      <td>1.000000e+00</td>\n",
              "      <td>-2.407500e-09</td>\n",
              "      <td>-3.117339e-09</td>\n",
              "      <td>1 month</td>\n",
              "    </tr>\n",
              "    <tr>\n",
              "      <th>4</th>\n",
              "      <td>Kyrgyzstan</td>\n",
              "      <td>Asia</td>\n",
              "      <td>8113.999903</td>\n",
              "      <td>2011.0</td>\n",
              "      <td>1.000000e+00</td>\n",
              "      <td>5999.999757</td>\n",
              "      <td>-8.259600e-10</td>\n",
              "      <td>-4.224892e-10</td>\n",
              "      <td>1.759115e-09</td>\n",
              "      <td>1.000000e+00</td>\n",
              "      <td>3.637797e-09</td>\n",
              "      <td>1.000000e+00</td>\n",
              "      <td>2.565203e-10</td>\n",
              "      <td>1.000000e+00</td>\n",
              "      <td>-1.098814e-08</td>\n",
              "      <td>-2.407500e-09</td>\n",
              "      <td>-3.117339e-09</td>\n",
              "      <td>1 month</td>\n",
              "    </tr>\n",
              "    <tr>\n",
              "      <th>5</th>\n",
              "      <td>Kyrgyzstan</td>\n",
              "      <td>Asia</td>\n",
              "      <td>8114.999873</td>\n",
              "      <td>2011.0</td>\n",
              "      <td>-8.058123e-09</td>\n",
              "      <td>10.000711</td>\n",
              "      <td>-8.259600e-10</td>\n",
              "      <td>-4.224892e-10</td>\n",
              "      <td>1.759115e-09</td>\n",
              "      <td>1.000000e+00</td>\n",
              "      <td>3.637797e-09</td>\n",
              "      <td>-6.489525e-10</td>\n",
              "      <td>2.565203e-10</td>\n",
              "      <td>2.750655e-09</td>\n",
              "      <td>-1.098814e-08</td>\n",
              "      <td>1.000000e+00</td>\n",
              "      <td>-3.117339e-09</td>\n",
              "      <td>1 month</td>\n",
              "    </tr>\n",
              "    <tr>\n",
              "      <th>6</th>\n",
              "      <td>Kyrgyzstan</td>\n",
              "      <td>Asia</td>\n",
              "      <td>8116.000123</td>\n",
              "      <td>2011.0</td>\n",
              "      <td>-8.058123e-09</td>\n",
              "      <td>100.000600</td>\n",
              "      <td>-8.259600e-10</td>\n",
              "      <td>-4.224892e-10</td>\n",
              "      <td>1.759115e-09</td>\n",
              "      <td>1.000000e+00</td>\n",
              "      <td>3.637797e-09</td>\n",
              "      <td>-6.489525e-10</td>\n",
              "      <td>2.565203e-10</td>\n",
              "      <td>2.750655e-09</td>\n",
              "      <td>1.000000e+00</td>\n",
              "      <td>-2.407500e-09</td>\n",
              "      <td>-3.117339e-09</td>\n",
              "      <td>1 month</td>\n",
              "    </tr>\n",
              "    <tr>\n",
              "      <th>7</th>\n",
              "      <td>Kyrgyzstan</td>\n",
              "      <td>Asia</td>\n",
              "      <td>8117.000093</td>\n",
              "      <td>2011.0</td>\n",
              "      <td>-8.058123e-09</td>\n",
              "      <td>149.999631</td>\n",
              "      <td>-8.259600e-10</td>\n",
              "      <td>-4.224892e-10</td>\n",
              "      <td>1.759115e-09</td>\n",
              "      <td>1.000000e+00</td>\n",
              "      <td>3.637797e-09</td>\n",
              "      <td>-6.489525e-10</td>\n",
              "      <td>2.565203e-10</td>\n",
              "      <td>2.750655e-09</td>\n",
              "      <td>1.000000e+00</td>\n",
              "      <td>-2.407500e-09</td>\n",
              "      <td>-3.117339e-09</td>\n",
              "      <td>1 month</td>\n",
              "    </tr>\n",
              "    <tr>\n",
              "      <th>8</th>\n",
              "      <td>Kyrgyzstan</td>\n",
              "      <td>Asia</td>\n",
              "      <td>8118.000063</td>\n",
              "      <td>2011.0</td>\n",
              "      <td>-8.058123e-09</td>\n",
              "      <td>249.999326</td>\n",
              "      <td>-8.259600e-10</td>\n",
              "      <td>-4.224892e-10</td>\n",
              "      <td>1.759115e-09</td>\n",
              "      <td>1.000000e+00</td>\n",
              "      <td>3.637797e-09</td>\n",
              "      <td>1.000000e+00</td>\n",
              "      <td>2.565203e-10</td>\n",
              "      <td>2.750655e-09</td>\n",
              "      <td>1.000000e+00</td>\n",
              "      <td>-2.407500e-09</td>\n",
              "      <td>-3.117339e-09</td>\n",
              "      <td>1 month</td>\n",
              "    </tr>\n",
              "    <tr>\n",
              "      <th>9</th>\n",
              "      <td>Kyrgyzstan</td>\n",
              "      <td>Asia</td>\n",
              "      <td>8119.000034</td>\n",
              "      <td>2011.0</td>\n",
              "      <td>-8.058123e-09</td>\n",
              "      <td>200.000295</td>\n",
              "      <td>-8.259600e-10</td>\n",
              "      <td>-4.224892e-10</td>\n",
              "      <td>1.759115e-09</td>\n",
              "      <td>1.000000e+00</td>\n",
              "      <td>3.637797e-09</td>\n",
              "      <td>-6.489525e-10</td>\n",
              "      <td>2.565203e-10</td>\n",
              "      <td>2.750655e-09</td>\n",
              "      <td>1.000000e+00</td>\n",
              "      <td>-2.407500e-09</td>\n",
              "      <td>-3.117339e-09</td>\n",
              "      <td>1 month</td>\n",
              "    </tr>\n",
              "  </tbody>\n",
              "</table>"
            ],
            "text/plain": [
              "<IPython.core.display.HTML object>"
            ]
          },
          "metadata": {}
        }
      ]
    },
    {
      "cell_type": "code",
      "source": [
        "# define and fit the model\n",
        "learn = tabular_learner(dls, metrics=accuracy)\n",
        "learn.fit_one_cycle(3)"
      ],
      "metadata": {
        "colab": {
          "base_uri": "https://localhost:8080/",
          "height": 143
        },
        "id": "y5KE_b8f7Hn5",
        "outputId": "70e17c0c-bf03-460b-8e15-f9df9853bdd0"
      },
      "execution_count": null,
      "outputs": [
        {
          "output_type": "display_data",
          "data": {
            "text/html": [
              "\n",
              "<style>\n",
              "    /* Turns off some styling */\n",
              "    progress {\n",
              "        /* gets rid of default border in Firefox and Opera. */\n",
              "        border: none;\n",
              "        /* Needs to be in here for Safari polyfill so background images work as expected. */\n",
              "        background-size: auto;\n",
              "    }\n",
              "    .progress-bar-interrupted, .progress-bar-interrupted::-webkit-progress-bar {\n",
              "        background: #F44336;\n",
              "    }\n",
              "</style>\n"
            ],
            "text/plain": [
              "<IPython.core.display.HTML object>"
            ]
          },
          "metadata": {}
        },
        {
          "output_type": "display_data",
          "data": {
            "text/html": [
              "<table border=\"1\" class=\"dataframe\">\n",
              "  <thead>\n",
              "    <tr style=\"text-align: left;\">\n",
              "      <th>epoch</th>\n",
              "      <th>train_loss</th>\n",
              "      <th>valid_loss</th>\n",
              "      <th>accuracy</th>\n",
              "      <th>time</th>\n",
              "    </tr>\n",
              "  </thead>\n",
              "  <tbody>\n",
              "    <tr>\n",
              "      <td>0</td>\n",
              "      <td>1.063738</td>\n",
              "      <td>0.662033</td>\n",
              "      <td>0.947500</td>\n",
              "      <td>00:01</td>\n",
              "    </tr>\n",
              "    <tr>\n",
              "      <td>1</td>\n",
              "      <td>0.205544</td>\n",
              "      <td>0.112021</td>\n",
              "      <td>0.986000</td>\n",
              "      <td>00:01</td>\n",
              "    </tr>\n",
              "    <tr>\n",
              "      <td>2</td>\n",
              "      <td>0.082555</td>\n",
              "      <td>0.092298</td>\n",
              "      <td>0.986000</td>\n",
              "      <td>00:01</td>\n",
              "    </tr>\n",
              "  </tbody>\n",
              "</table>"
            ],
            "text/plain": [
              "<IPython.core.display.HTML object>"
            ]
          },
          "metadata": {}
        }
      ]
    },
    {
      "cell_type": "code",
      "source": [
        "# show the loss function used by the learner\n",
        "learn.loss_func"
      ],
      "metadata": {
        "colab": {
          "base_uri": "https://localhost:8080/"
        },
        "id": "18AMl7-G7QYS",
        "outputId": "86f23226-f8c4-4f76-d392-0c129d44613c"
      },
      "execution_count": null,
      "outputs": [
        {
          "output_type": "execute_result",
          "data": {
            "text/plain": [
              "FlattenedLoss of CrossEntropyLoss()"
            ]
          },
          "metadata": {},
          "execution_count": 19
        }
      ]
    },
    {
      "cell_type": "code",
      "source": [
        "# show a set of results from the model\n",
        "learn.show_results()"
      ],
      "metadata": {
        "id": "Owailkv37SQq",
        "colab": {
          "base_uri": "https://localhost:8080/",
          "height": 369
        },
        "outputId": "49aeb3f6-8fca-4802-e74a-bb5b80f7a8da"
      },
      "execution_count": null,
      "outputs": [
        {
          "output_type": "display_data",
          "data": {
            "text/html": [
              "\n",
              "<style>\n",
              "    /* Turns off some styling */\n",
              "    progress {\n",
              "        /* gets rid of default border in Firefox and Opera. */\n",
              "        border: none;\n",
              "        /* Needs to be in here for Safari polyfill so background images work as expected. */\n",
              "        background-size: auto;\n",
              "    }\n",
              "    .progress-bar-interrupted, .progress-bar-interrupted::-webkit-progress-bar {\n",
              "        background: #F44336;\n",
              "    }\n",
              "</style>\n"
            ],
            "text/plain": [
              "<IPython.core.display.HTML object>"
            ]
          },
          "metadata": {}
        },
        {
          "output_type": "display_data",
          "data": {
            "text/html": [
              ""
            ],
            "text/plain": [
              "<IPython.core.display.HTML object>"
            ]
          },
          "metadata": {}
        },
        {
          "output_type": "display_data",
          "data": {
            "text/html": [
              "<table border=\"1\" class=\"dataframe\">\n",
              "  <thead>\n",
              "    <tr style=\"text-align: right;\">\n",
              "      <th></th>\n",
              "      <th>country</th>\n",
              "      <th>region</th>\n",
              "      <th>Unnamed: 0</th>\n",
              "      <th>year</th>\n",
              "      <th>protesterviolence</th>\n",
              "      <th>participants</th>\n",
              "      <th>demand_labor_wage_dispute</th>\n",
              "      <th>demand_land_farm_issue</th>\n",
              "      <th>demand_police_brutality</th>\n",
              "      <th>demand_political_behavior_or_process</th>\n",
              "      <th>demand_price_hike_or_tax_policy</th>\n",
              "      <th>demand_removal_of_politician</th>\n",
              "      <th>demand_social_restrictions</th>\n",
              "      <th>y_accomodation</th>\n",
              "      <th>y_ignore</th>\n",
              "      <th>y_adverse_reaction</th>\n",
              "      <th>y_state_violence</th>\n",
              "      <th>protest_length_category</th>\n",
              "      <th>protest_length_category_pred</th>\n",
              "    </tr>\n",
              "  </thead>\n",
              "  <tbody>\n",
              "    <tr>\n",
              "      <th>0</th>\n",
              "      <td>111.0</td>\n",
              "      <td>2.0</td>\n",
              "      <td>2.545111</td>\n",
              "      <td>0.638720</td>\n",
              "      <td>-0.562458</td>\n",
              "      <td>-0.145554</td>\n",
              "      <td>-0.425655</td>\n",
              "      <td>-0.200359</td>\n",
              "      <td>-0.267879</td>\n",
              "      <td>0.622885</td>\n",
              "      <td>-0.33379</td>\n",
              "      <td>-0.371169</td>\n",
              "      <td>4.646559</td>\n",
              "      <td>-0.319221</td>\n",
              "      <td>0.880344</td>\n",
              "      <td>-0.74407</td>\n",
              "      <td>-0.344637</td>\n",
              "      <td>0.0</td>\n",
              "      <td>0.0</td>\n",
              "    </tr>\n",
              "    <tr>\n",
              "      <th>1</th>\n",
              "      <td>10.0</td>\n",
              "      <td>2.0</td>\n",
              "      <td>2.266189</td>\n",
              "      <td>1.353009</td>\n",
              "      <td>-0.562458</td>\n",
              "      <td>-0.136886</td>\n",
              "      <td>-0.425655</td>\n",
              "      <td>-0.200359</td>\n",
              "      <td>-0.267879</td>\n",
              "      <td>0.622885</td>\n",
              "      <td>-0.33379</td>\n",
              "      <td>-0.371169</td>\n",
              "      <td>-0.215213</td>\n",
              "      <td>3.132623</td>\n",
              "      <td>-1.135919</td>\n",
              "      <td>1.34396</td>\n",
              "      <td>-0.344637</td>\n",
              "      <td>0.0</td>\n",
              "      <td>0.0</td>\n",
              "    </tr>\n",
              "    <tr>\n",
              "      <th>2</th>\n",
              "      <td>107.0</td>\n",
              "      <td>2.0</td>\n",
              "      <td>2.119680</td>\n",
              "      <td>-1.682717</td>\n",
              "      <td>1.777990</td>\n",
              "      <td>-0.136886</td>\n",
              "      <td>-0.425655</td>\n",
              "      <td>-0.200359</td>\n",
              "      <td>-0.267879</td>\n",
              "      <td>0.622885</td>\n",
              "      <td>-0.33379</td>\n",
              "      <td>-0.371169</td>\n",
              "      <td>-0.215213</td>\n",
              "      <td>-0.319221</td>\n",
              "      <td>-1.135919</td>\n",
              "      <td>-0.74407</td>\n",
              "      <td>2.901599</td>\n",
              "      <td>0.0</td>\n",
              "      <td>0.0</td>\n",
              "    </tr>\n",
              "    <tr>\n",
              "      <th>3</th>\n",
              "      <td>76.0</td>\n",
              "      <td>2.0</td>\n",
              "      <td>1.753621</td>\n",
              "      <td>0.281576</td>\n",
              "      <td>-0.562458</td>\n",
              "      <td>-0.145919</td>\n",
              "      <td>-0.425655</td>\n",
              "      <td>-0.200359</td>\n",
              "      <td>-0.267879</td>\n",
              "      <td>0.622885</td>\n",
              "      <td>-0.33379</td>\n",
              "      <td>-0.371169</td>\n",
              "      <td>-0.215213</td>\n",
              "      <td>-0.319221</td>\n",
              "      <td>0.880344</td>\n",
              "      <td>-0.74407</td>\n",
              "      <td>-0.344637</td>\n",
              "      <td>0.0</td>\n",
              "      <td>0.0</td>\n",
              "    </tr>\n",
              "    <tr>\n",
              "      <th>4</th>\n",
              "      <td>107.0</td>\n",
              "      <td>2.0</td>\n",
              "      <td>2.128223</td>\n",
              "      <td>-0.968429</td>\n",
              "      <td>-0.562458</td>\n",
              "      <td>-0.145098</td>\n",
              "      <td>-0.425655</td>\n",
              "      <td>-0.200359</td>\n",
              "      <td>-0.267879</td>\n",
              "      <td>0.622885</td>\n",
              "      <td>-0.33379</td>\n",
              "      <td>-0.371169</td>\n",
              "      <td>-0.215213</td>\n",
              "      <td>-0.319221</td>\n",
              "      <td>-1.135919</td>\n",
              "      <td>1.34396</td>\n",
              "      <td>-0.344637</td>\n",
              "      <td>0.0</td>\n",
              "      <td>0.0</td>\n",
              "    </tr>\n",
              "    <tr>\n",
              "      <th>5</th>\n",
              "      <td>97.0</td>\n",
              "      <td>2.0</td>\n",
              "      <td>2.287119</td>\n",
              "      <td>0.638720</td>\n",
              "      <td>-0.562458</td>\n",
              "      <td>-0.143985</td>\n",
              "      <td>-0.425655</td>\n",
              "      <td>4.991044</td>\n",
              "      <td>-0.267879</td>\n",
              "      <td>-1.605433</td>\n",
              "      <td>-0.33379</td>\n",
              "      <td>-0.371169</td>\n",
              "      <td>-0.215213</td>\n",
              "      <td>-0.319221</td>\n",
              "      <td>0.880344</td>\n",
              "      <td>-0.74407</td>\n",
              "      <td>-0.344637</td>\n",
              "      <td>0.0</td>\n",
              "      <td>0.0</td>\n",
              "    </tr>\n",
              "    <tr>\n",
              "      <th>6</th>\n",
              "      <td>62.0</td>\n",
              "      <td>2.0</td>\n",
              "      <td>2.073122</td>\n",
              "      <td>-0.432713</td>\n",
              "      <td>1.777990</td>\n",
              "      <td>-0.054769</td>\n",
              "      <td>-0.425655</td>\n",
              "      <td>4.991044</td>\n",
              "      <td>-0.267879</td>\n",
              "      <td>-1.605433</td>\n",
              "      <td>-0.33379</td>\n",
              "      <td>-0.371169</td>\n",
              "      <td>-0.215213</td>\n",
              "      <td>3.132623</td>\n",
              "      <td>-1.135919</td>\n",
              "      <td>-0.74407</td>\n",
              "      <td>-0.344637</td>\n",
              "      <td>0.0</td>\n",
              "      <td>0.0</td>\n",
              "    </tr>\n",
              "    <tr>\n",
              "      <th>7</th>\n",
              "      <td>76.0</td>\n",
              "      <td>2.0</td>\n",
              "      <td>1.754476</td>\n",
              "      <td>0.460148</td>\n",
              "      <td>-0.562458</td>\n",
              "      <td>-0.145554</td>\n",
              "      <td>-0.425655</td>\n",
              "      <td>-0.200359</td>\n",
              "      <td>-0.267879</td>\n",
              "      <td>0.622885</td>\n",
              "      <td>-0.33379</td>\n",
              "      <td>-0.371169</td>\n",
              "      <td>-0.215213</td>\n",
              "      <td>-0.319221</td>\n",
              "      <td>0.880344</td>\n",
              "      <td>-0.74407</td>\n",
              "      <td>-0.344637</td>\n",
              "      <td>0.0</td>\n",
              "      <td>0.0</td>\n",
              "    </tr>\n",
              "    <tr>\n",
              "      <th>8</th>\n",
              "      <td>128.0</td>\n",
              "      <td>2.0</td>\n",
              "      <td>1.966764</td>\n",
              "      <td>-1.504145</td>\n",
              "      <td>-0.562458</td>\n",
              "      <td>-0.054769</td>\n",
              "      <td>2.349317</td>\n",
              "      <td>-0.200359</td>\n",
              "      <td>-0.267879</td>\n",
              "      <td>-1.605433</td>\n",
              "      <td>-0.33379</td>\n",
              "      <td>-0.371169</td>\n",
              "      <td>-0.215213</td>\n",
              "      <td>-0.319221</td>\n",
              "      <td>0.880344</td>\n",
              "      <td>-0.74407</td>\n",
              "      <td>-0.344637</td>\n",
              "      <td>0.0</td>\n",
              "      <td>0.0</td>\n",
              "    </tr>\n",
              "  </tbody>\n",
              "</table>"
            ],
            "text/plain": [
              "<IPython.core.display.HTML object>"
            ]
          },
          "metadata": {}
        }
      ]
    },
    {
      "cell_type": "code",
      "source": [
        "learn.summary()"
      ],
      "metadata": {
        "id": "pwNSYUWD722H"
      },
      "execution_count": null,
      "outputs": []
    },
    {
      "cell_type": "code",
      "source": [
        "learn.path"
      ],
      "metadata": {
        "colab": {
          "base_uri": "https://localhost:8080/"
        },
        "id": "z6Ezn9y0dMP9",
        "outputId": "f8aabc38-63b2-43c0-a25b-77e8dab37df7"
      },
      "execution_count": null,
      "outputs": [
        {
          "output_type": "execute_result",
          "data": {
            "text/plain": [
              "Path('protests')"
            ]
          },
          "metadata": {},
          "execution_count": 10
        }
      ]
    },
    {
      "cell_type": "code",
      "source": [
        "learn.export('protest.pkl')"
      ],
      "metadata": {
        "id": "sAVaejk9wEAK"
      },
      "execution_count": null,
      "outputs": []
    },
    {
      "cell_type": "code",
      "source": [
        "import  pickle\n",
        "file_path = learn.path/'trained_model.pkl'\n",
        "with open(file_path, 'wb') as f:\n",
        "    pickle.dump(learn, f)"
      ],
      "metadata": {
        "id": "1rfQS8h0B202"
      },
      "execution_count": null,
      "outputs": []
    },
    {
      "cell_type": "code",
      "source": [
        "from google.colab import files\n",
        "files.download(path/'protest.pkl')"
      ],
      "metadata": {
        "colab": {
          "base_uri": "https://localhost:8080/",
          "height": 17
        },
        "id": "YJyclfREB6vR",
        "outputId": "99aede2c-4d9b-4a32-d97e-18ab44195401"
      },
      "execution_count": null,
      "outputs": [
        {
          "output_type": "display_data",
          "data": {
            "application/javascript": [
              "\n",
              "    async function download(id, filename, size) {\n",
              "      if (!google.colab.kernel.accessAllowed) {\n",
              "        return;\n",
              "      }\n",
              "      const div = document.createElement('div');\n",
              "      const label = document.createElement('label');\n",
              "      label.textContent = `Downloading \"${filename}\": `;\n",
              "      div.appendChild(label);\n",
              "      const progress = document.createElement('progress');\n",
              "      progress.max = size;\n",
              "      div.appendChild(progress);\n",
              "      document.body.appendChild(div);\n",
              "\n",
              "      const buffers = [];\n",
              "      let downloaded = 0;\n",
              "\n",
              "      const channel = await google.colab.kernel.comms.open(id);\n",
              "      // Send a message to notify the kernel that we're ready.\n",
              "      channel.send({})\n",
              "\n",
              "      for await (const message of channel.messages) {\n",
              "        // Send a message to notify the kernel that we're ready.\n",
              "        channel.send({})\n",
              "        if (message.buffers) {\n",
              "          for (const buffer of message.buffers) {\n",
              "            buffers.push(buffer);\n",
              "            downloaded += buffer.byteLength;\n",
              "            progress.value = downloaded;\n",
              "          }\n",
              "        }\n",
              "      }\n",
              "      const blob = new Blob(buffers, {type: 'application/binary'});\n",
              "      const a = document.createElement('a');\n",
              "      a.href = window.URL.createObjectURL(blob);\n",
              "      a.download = filename;\n",
              "      div.appendChild(a);\n",
              "      a.click();\n",
              "      div.remove();\n",
              "    }\n",
              "  "
            ],
            "text/plain": [
              "<IPython.core.display.Javascript object>"
            ]
          },
          "metadata": {}
        },
        {
          "output_type": "display_data",
          "data": {
            "application/javascript": [
              "download(\"download_f64afc2e-75cd-4b7a-a96b-7958f040bae4\", \"protest.pkl\", 208471)"
            ],
            "text/plain": [
              "<IPython.core.display.Javascript object>"
            ]
          },
          "metadata": {}
        }
      ]
    },
    {
      "cell_type": "code",
      "source": [
        "learn.path = path\n",
        "learn.export('trained_model_protests.pkl')\n",
        "learn.path"
      ],
      "metadata": {
        "colab": {
          "base_uri": "https://localhost:8080/"
        },
        "id": "T6bdI8ZIeFim",
        "outputId": "01562b51-11ff-47ba-8cd0-3cf928898488"
      },
      "execution_count": null,
      "outputs": [
        {
          "output_type": "execute_result",
          "data": {
            "text/plain": [
              "Path('protests')"
            ]
          },
          "metadata": {},
          "execution_count": 23
        }
      ]
    },
    {
      "cell_type": "code",
      "source": [
        "learn2 = load_learner(path/'trained_model_protests.pkl')"
      ],
      "metadata": {
        "id": "Cu-77Gn7f7N2"
      },
      "execution_count": null,
      "outputs": []
    },
    {
      "cell_type": "code",
      "source": [
        "# get the model predictions\n",
        "learn2.predict(df_train.iloc[0])"
      ],
      "metadata": {
        "id": "ENosBcsplA6m"
      },
      "execution_count": null,
      "outputs": []
    },
    {
      "cell_type": "code",
      "source": [
        "# get the model predictions for another row\n",
        "learn2.predict(df_train.iloc[25])"
      ],
      "metadata": {
        "id": "CYX-Qffyl1Rt"
      },
      "execution_count": null,
      "outputs": []
    },
    {
      "cell_type": "code",
      "source": [
        "from google.colab import files\n",
        "files.download(path/'trained_model_protests.pkl')"
      ],
      "metadata": {
        "colab": {
          "base_uri": "https://localhost:8080/",
          "height": 17
        },
        "id": "DLxPfr-y6jK_",
        "outputId": "b6f50fa0-180b-409b-bcbd-607e154f42d6"
      },
      "execution_count": null,
      "outputs": [
        {
          "output_type": "display_data",
          "data": {
            "application/javascript": [
              "\n",
              "    async function download(id, filename, size) {\n",
              "      if (!google.colab.kernel.accessAllowed) {\n",
              "        return;\n",
              "      }\n",
              "      const div = document.createElement('div');\n",
              "      const label = document.createElement('label');\n",
              "      label.textContent = `Downloading \"${filename}\": `;\n",
              "      div.appendChild(label);\n",
              "      const progress = document.createElement('progress');\n",
              "      progress.max = size;\n",
              "      div.appendChild(progress);\n",
              "      document.body.appendChild(div);\n",
              "\n",
              "      const buffers = [];\n",
              "      let downloaded = 0;\n",
              "\n",
              "      const channel = await google.colab.kernel.comms.open(id);\n",
              "      // Send a message to notify the kernel that we're ready.\n",
              "      channel.send({})\n",
              "\n",
              "      for await (const message of channel.messages) {\n",
              "        // Send a message to notify the kernel that we're ready.\n",
              "        channel.send({})\n",
              "        if (message.buffers) {\n",
              "          for (const buffer of message.buffers) {\n",
              "            buffers.push(buffer);\n",
              "            downloaded += buffer.byteLength;\n",
              "            progress.value = downloaded;\n",
              "          }\n",
              "        }\n",
              "      }\n",
              "      const blob = new Blob(buffers, {type: 'application/binary'});\n",
              "      const a = document.createElement('a');\n",
              "      a.href = window.URL.createObjectURL(blob);\n",
              "      a.download = filename;\n",
              "      div.appendChild(a);\n",
              "      a.click();\n",
              "      div.remove();\n",
              "    }\n",
              "  "
            ],
            "text/plain": [
              "<IPython.core.display.Javascript object>"
            ]
          },
          "metadata": {}
        },
        {
          "output_type": "display_data",
          "data": {
            "application/javascript": [
              "download(\"download_c0800ada-7a70-4f90-aa10-491d2c1927f9\", \"trained_model_protests.pkl\", 207837)"
            ],
            "text/plain": [
              "<IPython.core.display.Javascript object>"
            ]
          },
          "metadata": {}
        }
      ]
    },
    {
      "cell_type": "code",
      "source": [
        "# Step1: Install libraries.\n",
        "!pip install flask\n",
        "import json\n",
        "import os\n",
        "import urllib.request\n",
        "import numpy as np\n",
        "import pathlib\n",
        "temp = pathlib.PosixPath\n",
        "pathlib.PosixPath = pathlib.WindowsPath\n",
        "from flask import Flask, render_template, request\n",
        "#from fastbook import *\n",
        "from fastai.tabular.all import *"
      ],
      "metadata": {
        "colab": {
          "base_uri": "https://localhost:8080/"
        },
        "id": "J73oriNVWddg",
        "outputId": "07c05b3a-c082-4043-e961-6883d0ee7d7f"
      },
      "execution_count": null,
      "outputs": [
        {
          "output_type": "stream",
          "name": "stdout",
          "text": [
            "Requirement already satisfied: flask in /usr/local/lib/python3.7/dist-packages (1.1.4)\n",
            "Requirement already satisfied: itsdangerous<2.0,>=0.24 in /usr/local/lib/python3.7/dist-packages (from flask) (1.1.0)\n",
            "Requirement already satisfied: click<8.0,>=5.1 in /usr/local/lib/python3.7/dist-packages (from flask) (7.1.2)\n",
            "Requirement already satisfied: Werkzeug<2.0,>=0.15 in /usr/local/lib/python3.7/dist-packages (from flask) (1.0.1)\n",
            "Requirement already satisfied: Jinja2<3.0,>=2.10.1 in /usr/local/lib/python3.7/dist-packages (from flask) (2.11.3)\n",
            "Requirement already satisfied: MarkupSafe>=0.23 in /usr/local/lib/python3.7/dist-packages (from Jinja2<3.0,>=2.10.1->flask) (2.0.1)\n"
          ]
        }
      ]
    },
    {
      "cell_type": "code",
      "source": [
        "pathlib.PosixPath= temp\n",
        "pathlib.PosixPath"
      ],
      "metadata": {
        "colab": {
          "base_uri": "https://localhost:8080/"
        },
        "id": "-5OpK39xdHDw",
        "outputId": "716ea92f-494c-4198-cb93-6379e831082a"
      },
      "execution_count": null,
      "outputs": [
        {
          "output_type": "execute_result",
          "data": {
            "text/plain": [
              "pathlib.PosixPath"
            ]
          },
          "metadata": {},
          "execution_count": 20
        }
      ]
    },
    {
      "cell_type": "code",
      "source": [
        "!pip install flask-ngrok\n",
        "%mkdir templates -p\n",
        "%mkdir static/css -p"
      ],
      "metadata": {
        "colab": {
          "base_uri": "https://localhost:8080/"
        },
        "id": "B6JcXv9D2RWG",
        "outputId": "bc050ac9-88bf-4efa-9a00-ee1d9cea400d"
      },
      "execution_count": null,
      "outputs": [
        {
          "output_type": "stream",
          "name": "stdout",
          "text": [
            "Collecting flask-ngrok\n",
            "  Downloading flask_ngrok-0.0.25-py3-none-any.whl (3.1 kB)\n",
            "Requirement already satisfied: Flask>=0.8 in /usr/local/lib/python3.7/dist-packages (from flask-ngrok) (1.1.4)\n",
            "Requirement already satisfied: requests in /usr/local/lib/python3.7/dist-packages (from flask-ngrok) (2.23.0)\n",
            "Requirement already satisfied: Jinja2<3.0,>=2.10.1 in /usr/local/lib/python3.7/dist-packages (from Flask>=0.8->flask-ngrok) (2.11.3)\n",
            "Requirement already satisfied: Werkzeug<2.0,>=0.15 in /usr/local/lib/python3.7/dist-packages (from Flask>=0.8->flask-ngrok) (1.0.1)\n",
            "Requirement already satisfied: itsdangerous<2.0,>=0.24 in /usr/local/lib/python3.7/dist-packages (from Flask>=0.8->flask-ngrok) (1.1.0)\n",
            "Requirement already satisfied: click<8.0,>=5.1 in /usr/local/lib/python3.7/dist-packages (from Flask>=0.8->flask-ngrok) (7.1.2)\n",
            "Requirement already satisfied: MarkupSafe>=0.23 in /usr/local/lib/python3.7/dist-packages (from Jinja2<3.0,>=2.10.1->Flask>=0.8->flask-ngrok) (2.0.1)\n",
            "Requirement already satisfied: chardet<4,>=3.0.2 in /usr/local/lib/python3.7/dist-packages (from requests->flask-ngrok) (3.0.4)\n",
            "Requirement already satisfied: certifi>=2017.4.17 in /usr/local/lib/python3.7/dist-packages (from requests->flask-ngrok) (2021.10.8)\n",
            "Requirement already satisfied: urllib3!=1.25.0,!=1.25.1,<1.26,>=1.21.1 in /usr/local/lib/python3.7/dist-packages (from requests->flask-ngrok) (1.24.3)\n",
            "Requirement already satisfied: idna<3,>=2.5 in /usr/local/lib/python3.7/dist-packages (from requests->flask-ngrok) (2.10)\n",
            "Installing collected packages: flask-ngrok\n",
            "Successfully installed flask-ngrok-0.0.25\n"
          ]
        }
      ]
    },
    {
      "cell_type": "code",
      "source": [
        "scoring_columns = ['country', 'region']"
      ],
      "metadata": {
        "id": "jJdbr6hgoUGa"
      },
      "execution_count": null,
      "outputs": []
    },
    {
      "cell_type": "code",
      "source": [
        "# translate the code to Keras\n",
        "from keras.models import Sequential\n",
        "from keras.layers import Dense\n",
        "from keras.wrappers.scikit_learn import KerasClassifier\n",
        "from sklearn.model_selection import cross_val_score\n",
        "from sklearn.preprocessing import LabelEncoder\n",
        "from sklearn.model_selection import StratifiedKFold\n",
        "from sklearn.preprocessing import StandardScaler\n",
        "from sklearn.pipeline import Pipeline\n",
        "\n",
        "# create a function to create the model\n",
        "def create_model():\n",
        "    model = Sequential()\n",
        "    model.add(Dense(12, input_dim=8, activation='relu'))\n",
        "    model.add(Dense(8, activation='relu'))\n",
        "    model.add(Dense(1, activation='sigmoid'))\n",
        "    model.compile(loss='binary_crossentropy', optimizer='adam', metrics=['accuracy'])\n",
        "    return model\n",
        "\n",
        "# create the model\n",
        "model = KerasClassifier(build_fn=create_model, epochs=100, batch_size=10, verbose=0)\n",
        "\n",
        "# split the data into train and test sets\n",
        "X = df_train.drop(['protest_length_category'], axis=1)\n",
        "y = df_train['protest_length_category']\n",
        "X_train, X_test, y_train, y_test = train_test_split(X, y, test_size=0.33, random_state=42)\n",
        "\n",
        "# fit the model\n",
        "model.fit(X_train, y_train)\n",
        "\n",
        "# evaluate the model\n",
        "y_pred = model.predict(X_test)\n",
        "print(accuracy_score(y_test, y_pred))\n",
        "print(confusion_matrix(y_test, y_pred))\n",
        "print(classification_report(y_test, y_pred))"
      ],
      "metadata": {
        "id": "VBpz4WtFbUl0"
      },
      "execution_count": null,
      "outputs": []
    }
  ]
}